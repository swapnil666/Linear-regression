{
 "cells": [
  {
   "cell_type": "code",
   "execution_count": 1,
   "metadata": {
    "colab": {
     "base_uri": "https://localhost:8080/"
    },
    "id": "LVwarCun_RyK",
    "outputId": "afe151e1-e09f-4908-a6ec-7fa0bd4e1626"
   },
   "outputs": [],
   "source": [
    "import pandas as pd \n",
    "import numpy as np \n",
    "import seaborn as sns \n",
    "from matplotlib import pyplot as plt\n",
    "from sklearn import preprocessing \n",
    "import scipy.stats as stats\n",
    "from statsmodels.stats import weightstats as stests\n",
    "from sklearn.cluster import KMeans\n",
    "from scipy.spatial.distance import cdist"
   ]
  },
  {
   "cell_type": "code",
   "execution_count": 3,
   "metadata": {
    "colab": {
     "base_uri": "https://localhost:8080/",
     "height": 374
    },
    "id": "6rwbwZXH_RyL",
    "outputId": "1a9aa945-fc13-4115-c618-c73d317a755e"
   },
   "outputs": [],
   "source": [
    "data=pd.read_csv(r'C:\\Users\\user\\Downloads\\car-mpg.csv') # Loading csv data into a python data frame"
   ]
  },
  {
   "cell_type": "code",
   "execution_count": 4,
   "metadata": {
    "id": "x8fatzIO_RyL"
   },
   "outputs": [
    {
     "data": {
      "text/plain": [
       "(398, 10)"
      ]
     },
     "execution_count": 4,
     "metadata": {},
     "output_type": "execute_result"
    }
   ],
   "source": [
    "data.shape # the output suggests that the data set has 398 rows and 8 columns which can also be referred to as depth and breadth analysis.\n",
    "           # Data sets with large breadth(too many columns) and small depth(too few rows) will lead to curse of dimensionality \n",
    "           # situation where models will tend to become overfit.\n",
    "           # to avoid model overfitting we will have to regularize the models,such as using ridge or lasso."
   ]
  },
  {
   "cell_type": "code",
   "execution_count": 5,
   "metadata": {
    "id": "WnwSJSWv_RyO"
   },
   "outputs": [
    {
     "data": {
      "text/html": [
       "<div>\n",
       "<style scoped>\n",
       "    .dataframe tbody tr th:only-of-type {\n",
       "        vertical-align: middle;\n",
       "    }\n",
       "\n",
       "    .dataframe tbody tr th {\n",
       "        vertical-align: top;\n",
       "    }\n",
       "\n",
       "    .dataframe thead th {\n",
       "        text-align: right;\n",
       "    }\n",
       "</style>\n",
       "<table border=\"1\" class=\"dataframe\">\n",
       "  <thead>\n",
       "    <tr style=\"text-align: right;\">\n",
       "      <th></th>\n",
       "      <th>mpg</th>\n",
       "      <th>cyl</th>\n",
       "      <th>disp</th>\n",
       "      <th>hp</th>\n",
       "      <th>wt</th>\n",
       "      <th>acc</th>\n",
       "      <th>yr</th>\n",
       "      <th>origin</th>\n",
       "      <th>car_type</th>\n",
       "      <th>car_name</th>\n",
       "    </tr>\n",
       "  </thead>\n",
       "  <tbody>\n",
       "    <tr>\n",
       "      <th>0</th>\n",
       "      <td>18.0</td>\n",
       "      <td>8</td>\n",
       "      <td>307.0</td>\n",
       "      <td>130</td>\n",
       "      <td>3504</td>\n",
       "      <td>12.0</td>\n",
       "      <td>70</td>\n",
       "      <td>1</td>\n",
       "      <td>0</td>\n",
       "      <td>chevrolet chevelle malibu</td>\n",
       "    </tr>\n",
       "    <tr>\n",
       "      <th>1</th>\n",
       "      <td>15.0</td>\n",
       "      <td>8</td>\n",
       "      <td>350.0</td>\n",
       "      <td>165</td>\n",
       "      <td>3693</td>\n",
       "      <td>11.5</td>\n",
       "      <td>70</td>\n",
       "      <td>1</td>\n",
       "      <td>0</td>\n",
       "      <td>buick skylark 320</td>\n",
       "    </tr>\n",
       "    <tr>\n",
       "      <th>2</th>\n",
       "      <td>18.0</td>\n",
       "      <td>8</td>\n",
       "      <td>318.0</td>\n",
       "      <td>150</td>\n",
       "      <td>3436</td>\n",
       "      <td>11.0</td>\n",
       "      <td>70</td>\n",
       "      <td>1</td>\n",
       "      <td>0</td>\n",
       "      <td>plymouth satellite</td>\n",
       "    </tr>\n",
       "    <tr>\n",
       "      <th>3</th>\n",
       "      <td>16.0</td>\n",
       "      <td>8</td>\n",
       "      <td>304.0</td>\n",
       "      <td>150</td>\n",
       "      <td>3433</td>\n",
       "      <td>12.0</td>\n",
       "      <td>70</td>\n",
       "      <td>1</td>\n",
       "      <td>0</td>\n",
       "      <td>amc rebel sst</td>\n",
       "    </tr>\n",
       "    <tr>\n",
       "      <th>4</th>\n",
       "      <td>17.0</td>\n",
       "      <td>8</td>\n",
       "      <td>302.0</td>\n",
       "      <td>140</td>\n",
       "      <td>3449</td>\n",
       "      <td>10.5</td>\n",
       "      <td>70</td>\n",
       "      <td>1</td>\n",
       "      <td>0</td>\n",
       "      <td>ford torino</td>\n",
       "    </tr>\n",
       "  </tbody>\n",
       "</table>\n",
       "</div>"
      ],
      "text/plain": [
       "    mpg  cyl   disp   hp    wt   acc  yr  origin  car_type  \\\n",
       "0  18.0    8  307.0  130  3504  12.0  70       1         0   \n",
       "1  15.0    8  350.0  165  3693  11.5  70       1         0   \n",
       "2  18.0    8  318.0  150  3436  11.0  70       1         0   \n",
       "3  16.0    8  304.0  150  3433  12.0  70       1         0   \n",
       "4  17.0    8  302.0  140  3449  10.5  70       1         0   \n",
       "\n",
       "                    car_name  \n",
       "0  chevrolet chevelle malibu  \n",
       "1          buick skylark 320  \n",
       "2         plymouth satellite  \n",
       "3              amc rebel sst  \n",
       "4                ford torino  "
      ]
     },
     "execution_count": 5,
     "metadata": {},
     "output_type": "execute_result"
    }
   ],
   "source": [
    "data.head(5)"
   ]
  },
  {
   "cell_type": "code",
   "execution_count": 7,
   "metadata": {
    "id": "xNbdWncC_RyO"
   },
   "outputs": [],
   "source": [
    "# Car name being a object data type(srings) should be removed from the analysis.\n",
    "data=data.drop('car_name',axis=1)"
   ]
  },
  {
   "cell_type": "markdown",
   "metadata": {
    "id": "EZBPdSX9_RyO"
   },
   "source": [
    "# Descriptive Statistics "
   ]
  },
  {
   "cell_type": "code",
   "execution_count": 8,
   "metadata": {
    "id": "VdqopzsN_RyO",
    "outputId": "53798593-4db5-462e-ec70-9d50d74a8efc"
   },
   "outputs": [
    {
     "data": {
      "text/html": [
       "<div>\n",
       "<style scoped>\n",
       "    .dataframe tbody tr th:only-of-type {\n",
       "        vertical-align: middle;\n",
       "    }\n",
       "\n",
       "    .dataframe tbody tr th {\n",
       "        vertical-align: top;\n",
       "    }\n",
       "\n",
       "    .dataframe thead th {\n",
       "        text-align: right;\n",
       "    }\n",
       "</style>\n",
       "<table border=\"1\" class=\"dataframe\">\n",
       "  <thead>\n",
       "    <tr style=\"text-align: right;\">\n",
       "      <th></th>\n",
       "      <th>count</th>\n",
       "      <th>mean</th>\n",
       "      <th>std</th>\n",
       "      <th>min</th>\n",
       "      <th>25%</th>\n",
       "      <th>50%</th>\n",
       "      <th>75%</th>\n",
       "      <th>max</th>\n",
       "    </tr>\n",
       "  </thead>\n",
       "  <tbody>\n",
       "    <tr>\n",
       "      <th>mpg</th>\n",
       "      <td>398.0</td>\n",
       "      <td>23.514573</td>\n",
       "      <td>7.815984</td>\n",
       "      <td>9.0</td>\n",
       "      <td>17.500</td>\n",
       "      <td>23.0</td>\n",
       "      <td>29.000</td>\n",
       "      <td>46.6</td>\n",
       "    </tr>\n",
       "    <tr>\n",
       "      <th>cyl</th>\n",
       "      <td>398.0</td>\n",
       "      <td>5.454774</td>\n",
       "      <td>1.701004</td>\n",
       "      <td>3.0</td>\n",
       "      <td>4.000</td>\n",
       "      <td>4.0</td>\n",
       "      <td>8.000</td>\n",
       "      <td>8.0</td>\n",
       "    </tr>\n",
       "    <tr>\n",
       "      <th>disp</th>\n",
       "      <td>398.0</td>\n",
       "      <td>193.425879</td>\n",
       "      <td>104.269838</td>\n",
       "      <td>68.0</td>\n",
       "      <td>104.250</td>\n",
       "      <td>148.5</td>\n",
       "      <td>262.000</td>\n",
       "      <td>455.0</td>\n",
       "    </tr>\n",
       "    <tr>\n",
       "      <th>wt</th>\n",
       "      <td>398.0</td>\n",
       "      <td>2970.424623</td>\n",
       "      <td>846.841774</td>\n",
       "      <td>1613.0</td>\n",
       "      <td>2223.750</td>\n",
       "      <td>2803.5</td>\n",
       "      <td>3608.000</td>\n",
       "      <td>5140.0</td>\n",
       "    </tr>\n",
       "    <tr>\n",
       "      <th>acc</th>\n",
       "      <td>398.0</td>\n",
       "      <td>15.568090</td>\n",
       "      <td>2.757689</td>\n",
       "      <td>8.0</td>\n",
       "      <td>13.825</td>\n",
       "      <td>15.5</td>\n",
       "      <td>17.175</td>\n",
       "      <td>24.8</td>\n",
       "    </tr>\n",
       "    <tr>\n",
       "      <th>yr</th>\n",
       "      <td>398.0</td>\n",
       "      <td>76.010050</td>\n",
       "      <td>3.697627</td>\n",
       "      <td>70.0</td>\n",
       "      <td>73.000</td>\n",
       "      <td>76.0</td>\n",
       "      <td>79.000</td>\n",
       "      <td>82.0</td>\n",
       "    </tr>\n",
       "    <tr>\n",
       "      <th>origin</th>\n",
       "      <td>398.0</td>\n",
       "      <td>1.572864</td>\n",
       "      <td>0.802055</td>\n",
       "      <td>1.0</td>\n",
       "      <td>1.000</td>\n",
       "      <td>1.0</td>\n",
       "      <td>2.000</td>\n",
       "      <td>3.0</td>\n",
       "    </tr>\n",
       "    <tr>\n",
       "      <th>car_type</th>\n",
       "      <td>398.0</td>\n",
       "      <td>0.530151</td>\n",
       "      <td>0.499718</td>\n",
       "      <td>0.0</td>\n",
       "      <td>0.000</td>\n",
       "      <td>1.0</td>\n",
       "      <td>1.000</td>\n",
       "      <td>1.0</td>\n",
       "    </tr>\n",
       "  </tbody>\n",
       "</table>\n",
       "</div>"
      ],
      "text/plain": [
       "          count         mean         std     min       25%     50%       75%  \\\n",
       "mpg       398.0    23.514573    7.815984     9.0    17.500    23.0    29.000   \n",
       "cyl       398.0     5.454774    1.701004     3.0     4.000     4.0     8.000   \n",
       "disp      398.0   193.425879  104.269838    68.0   104.250   148.5   262.000   \n",
       "wt        398.0  2970.424623  846.841774  1613.0  2223.750  2803.5  3608.000   \n",
       "acc       398.0    15.568090    2.757689     8.0    13.825    15.5    17.175   \n",
       "yr        398.0    76.010050    3.697627    70.0    73.000    76.0    79.000   \n",
       "origin    398.0     1.572864    0.802055     1.0     1.000     1.0     2.000   \n",
       "car_type  398.0     0.530151    0.499718     0.0     0.000     1.0     1.000   \n",
       "\n",
       "             max  \n",
       "mpg         46.6  \n",
       "cyl          8.0  \n",
       "disp       455.0  \n",
       "wt        5140.0  \n",
       "acc         24.8  \n",
       "yr          82.0  \n",
       "origin       3.0  \n",
       "car_type     1.0  "
      ]
     },
     "execution_count": 8,
     "metadata": {},
     "output_type": "execute_result"
    }
   ],
   "source": [
    "data.describe().transpose() "
   ]
  },
  {
   "cell_type": "markdown",
   "metadata": {
    "id": "P3gKKcot_RyO"
   },
   "source": [
    "## Observations \n"
   ]
  },
  {
   "cell_type": "markdown",
   "metadata": {
    "id": "-BpgwuqK_RyO"
   },
   "source": [
    "1. Since all columns have same number of records, it is indicated that there are no missing values in any of the columns.\n",
    "2. The absence of Horsepower column suggests that the column has some data quality issues."
   ]
  },
  {
   "cell_type": "code",
   "execution_count": 9,
   "metadata": {
    "id": "mmjuVK_C_RyO",
    "outputId": "07b23790-d570-46de-c358-d1c9286757c4"
   },
   "outputs": [
    {
     "name": "stdout",
     "output_type": "stream",
     "text": [
      "<class 'pandas.core.frame.DataFrame'>\n",
      "RangeIndex: 398 entries, 0 to 397\n",
      "Data columns (total 9 columns):\n",
      " #   Column    Non-Null Count  Dtype  \n",
      "---  ------    --------------  -----  \n",
      " 0   mpg       398 non-null    float64\n",
      " 1   cyl       398 non-null    int64  \n",
      " 2   disp      398 non-null    float64\n",
      " 3   hp        398 non-null    object \n",
      " 4   wt        398 non-null    int64  \n",
      " 5   acc       398 non-null    float64\n",
      " 6   yr        398 non-null    int64  \n",
      " 7   origin    398 non-null    int64  \n",
      " 8   car_type  398 non-null    int64  \n",
      "dtypes: float64(3), int64(5), object(1)\n",
      "memory usage: 28.1+ KB\n"
     ]
    }
   ],
   "source": [
    "data.info() "
   ]
  },
  {
   "cell_type": "markdown",
   "metadata": {
    "id": "904eIC5k_RyO"
   },
   "source": [
    "1. Horsepower (hp) data type is object not numeric. This shows non numerical charecters are present in this column.\n",
    "2. Identify the records with the data problem in this column."
   ]
  },
  {
   "cell_type": "code",
   "execution_count": 10,
   "metadata": {
    "id": "TJlHdHgj_RyP",
    "outputId": "5f4af952-94e5-41c9-e18c-1acc3c95b173"
   },
   "outputs": [
    {
     "data": {
      "text/html": [
       "<div>\n",
       "<style scoped>\n",
       "    .dataframe tbody tr th:only-of-type {\n",
       "        vertical-align: middle;\n",
       "    }\n",
       "\n",
       "    .dataframe tbody tr th {\n",
       "        vertical-align: top;\n",
       "    }\n",
       "\n",
       "    .dataframe thead th {\n",
       "        text-align: right;\n",
       "    }\n",
       "</style>\n",
       "<table border=\"1\" class=\"dataframe\">\n",
       "  <thead>\n",
       "    <tr style=\"text-align: right;\">\n",
       "      <th></th>\n",
       "      <th>hp</th>\n",
       "    </tr>\n",
       "  </thead>\n",
       "  <tbody>\n",
       "    <tr>\n",
       "      <th>32</th>\n",
       "      <td>False</td>\n",
       "    </tr>\n",
       "    <tr>\n",
       "      <th>126</th>\n",
       "      <td>False</td>\n",
       "    </tr>\n",
       "    <tr>\n",
       "      <th>330</th>\n",
       "      <td>False</td>\n",
       "    </tr>\n",
       "    <tr>\n",
       "      <th>336</th>\n",
       "      <td>False</td>\n",
       "    </tr>\n",
       "    <tr>\n",
       "      <th>354</th>\n",
       "      <td>False</td>\n",
       "    </tr>\n",
       "    <tr>\n",
       "      <th>374</th>\n",
       "      <td>False</td>\n",
       "    </tr>\n",
       "  </tbody>\n",
       "</table>\n",
       "</div>"
      ],
      "text/plain": [
       "        hp\n",
       "32   False\n",
       "126  False\n",
       "330  False\n",
       "336  False\n",
       "354  False\n",
       "374  False"
      ]
     },
     "execution_count": 10,
     "metadata": {},
     "output_type": "execute_result"
    }
   ],
   "source": [
    "temp_hp=pd.DataFrame(data.hp.str.isdigit()) # The 'isdigit' is a boolean function. Returns true if columns of a row contain \n",
    "                                            # numeric value. Returns 'False' if it finds non-numeric values\n",
    "                                            # temp_hp array will cotain 398 \"True\" or \"False\" enteries. \n",
    "                                            # Those rows where any column has non-numeric, will have \"False\" in the array\n",
    "    \n",
    "temp_hp[temp_hp['hp'] == False] # Selecting all rows from the array which have \"False\""
   ]
  },
  {
   "cell_type": "markdown",
   "metadata": {
    "id": "MlA9NBn3_RyP"
   },
   "source": [
    "Visual inspection shows that these 6 records have '?' in the hp column.\n",
    "Maybe the data entry operator left '?' where data was missing."
   ]
  },
  {
   "cell_type": "markdown",
   "metadata": {
    "id": "iwL6Xb0b_RyP"
   },
   "source": [
    "# Missing Value identification and treatment "
   ]
  },
  {
   "cell_type": "markdown",
   "metadata": {
    "id": "FJ-cgznY_RyP"
   },
   "source": [
    "Missing Value treatment steps\n",
    "\n",
    "1. Replace '?' with NaN. This helps in using fillna function to replace the missing values.\n",
    "2. Replace all the NaN values with the median of the horsepower column. (median is least affected by the preasence of outliers) \n"
   ]
  },
  {
   "cell_type": "code",
   "execution_count": 11,
   "metadata": {
    "id": "SN01YGEq_RyP"
   },
   "outputs": [],
   "source": [
    "data=data.replace('?',np.nan)"
   ]
  },
  {
   "cell_type": "code",
   "execution_count": 12,
   "metadata": {
    "id": "QcyMbJSZ_RyP",
    "outputId": "9981a632-5548-4db2-9595-5c9f969e3567"
   },
   "outputs": [
    {
     "data": {
      "text/html": [
       "<div>\n",
       "<style scoped>\n",
       "    .dataframe tbody tr th:only-of-type {\n",
       "        vertical-align: middle;\n",
       "    }\n",
       "\n",
       "    .dataframe tbody tr th {\n",
       "        vertical-align: top;\n",
       "    }\n",
       "\n",
       "    .dataframe thead th {\n",
       "        text-align: right;\n",
       "    }\n",
       "</style>\n",
       "<table border=\"1\" class=\"dataframe\">\n",
       "  <thead>\n",
       "    <tr style=\"text-align: right;\">\n",
       "      <th></th>\n",
       "      <th>mpg</th>\n",
       "      <th>cyl</th>\n",
       "      <th>disp</th>\n",
       "      <th>hp</th>\n",
       "      <th>wt</th>\n",
       "      <th>acc</th>\n",
       "      <th>yr</th>\n",
       "      <th>origin</th>\n",
       "      <th>car_type</th>\n",
       "    </tr>\n",
       "  </thead>\n",
       "  <tbody>\n",
       "    <tr>\n",
       "      <th>32</th>\n",
       "      <td>25.0</td>\n",
       "      <td>4</td>\n",
       "      <td>98.0</td>\n",
       "      <td>NaN</td>\n",
       "      <td>2046</td>\n",
       "      <td>19.0</td>\n",
       "      <td>71</td>\n",
       "      <td>1</td>\n",
       "      <td>1</td>\n",
       "    </tr>\n",
       "    <tr>\n",
       "      <th>126</th>\n",
       "      <td>21.0</td>\n",
       "      <td>6</td>\n",
       "      <td>200.0</td>\n",
       "      <td>NaN</td>\n",
       "      <td>2875</td>\n",
       "      <td>17.0</td>\n",
       "      <td>74</td>\n",
       "      <td>1</td>\n",
       "      <td>0</td>\n",
       "    </tr>\n",
       "    <tr>\n",
       "      <th>330</th>\n",
       "      <td>40.9</td>\n",
       "      <td>4</td>\n",
       "      <td>85.0</td>\n",
       "      <td>NaN</td>\n",
       "      <td>1835</td>\n",
       "      <td>17.3</td>\n",
       "      <td>80</td>\n",
       "      <td>2</td>\n",
       "      <td>1</td>\n",
       "    </tr>\n",
       "    <tr>\n",
       "      <th>336</th>\n",
       "      <td>23.6</td>\n",
       "      <td>4</td>\n",
       "      <td>140.0</td>\n",
       "      <td>NaN</td>\n",
       "      <td>2905</td>\n",
       "      <td>14.3</td>\n",
       "      <td>80</td>\n",
       "      <td>1</td>\n",
       "      <td>1</td>\n",
       "    </tr>\n",
       "    <tr>\n",
       "      <th>354</th>\n",
       "      <td>34.5</td>\n",
       "      <td>4</td>\n",
       "      <td>100.0</td>\n",
       "      <td>NaN</td>\n",
       "      <td>2320</td>\n",
       "      <td>15.8</td>\n",
       "      <td>81</td>\n",
       "      <td>2</td>\n",
       "      <td>1</td>\n",
       "    </tr>\n",
       "    <tr>\n",
       "      <th>374</th>\n",
       "      <td>23.0</td>\n",
       "      <td>4</td>\n",
       "      <td>151.0</td>\n",
       "      <td>NaN</td>\n",
       "      <td>3035</td>\n",
       "      <td>20.5</td>\n",
       "      <td>82</td>\n",
       "      <td>1</td>\n",
       "      <td>1</td>\n",
       "    </tr>\n",
       "  </tbody>\n",
       "</table>\n",
       "</div>"
      ],
      "text/plain": [
       "      mpg  cyl   disp   hp    wt   acc  yr  origin  car_type\n",
       "32   25.0    4   98.0  NaN  2046  19.0  71       1         1\n",
       "126  21.0    6  200.0  NaN  2875  17.0  74       1         0\n",
       "330  40.9    4   85.0  NaN  1835  17.3  80       2         1\n",
       "336  23.6    4  140.0  NaN  2905  14.3  80       1         1\n",
       "354  34.5    4  100.0  NaN  2320  15.8  81       2         1\n",
       "374  23.0    4  151.0  NaN  3035  20.5  82       1         1"
      ]
     },
     "execution_count": 12,
     "metadata": {},
     "output_type": "execute_result"
    }
   ],
   "source": [
    "#checking if the above code worked.\n",
    "data[data.isnull().any(axis=1)]  #NaN is equal to null, hence we can use the isnull function to check whether the records with '?'\n",
    "                                 # have been correctly imputed with NaN."
   ]
  },
  {
   "cell_type": "code",
   "execution_count": 13,
   "metadata": {
    "id": "o4XtVOZs_RyP",
    "outputId": "79ed3aad-550b-43e9-e69f-0b770110ed7a"
   },
   "outputs": [
    {
     "data": {
      "text/plain": [
       "mpg           23.0\n",
       "cyl            4.0\n",
       "disp         148.5\n",
       "hp            93.5\n",
       "wt          2803.5\n",
       "acc           15.5\n",
       "yr            76.0\n",
       "origin         1.0\n",
       "car_type       1.0\n",
       "dtype: float64"
      ]
     },
     "execution_count": 13,
     "metadata": {},
     "output_type": "execute_result"
    }
   ],
   "source": [
    "data.median()  #check the median of all the columns."
   ]
  },
  {
   "cell_type": "code",
   "execution_count": 14,
   "metadata": {
    "id": "5hgraQO3_RyP"
   },
   "outputs": [],
   "source": [
    "data=data.apply(lambda x:x.fillna(x.median()),axis=0)  # Lambda function takes as input a column name and replaces all the \n",
    "                                                       # NaN in the column with the columns median."
   ]
  },
  {
   "cell_type": "code",
   "execution_count": 15,
   "metadata": {
    "id": "SLCM9uVs_RyP",
    "outputId": "37823314-ea10-4b8d-dc4a-7d48904aed3e"
   },
   "outputs": [
    {
     "data": {
      "text/plain": [
       "mpg         float64\n",
       "cyl           int64\n",
       "disp        float64\n",
       "hp           object\n",
       "wt            int64\n",
       "acc         float64\n",
       "yr            int64\n",
       "origin        int64\n",
       "car_type      int64\n",
       "dtype: object"
      ]
     },
     "execution_count": 15,
     "metadata": {},
     "output_type": "execute_result"
    }
   ],
   "source": [
    "data.dtypes  # Replacing NaN with median will not change the data type of the hp column."
   ]
  },
  {
   "cell_type": "code",
   "execution_count": 16,
   "metadata": {
    "id": "9Nc3VkLd_RyP"
   },
   "outputs": [],
   "source": [
    " data['hp']=data['hp'].astype('float64') #change the data type ofhorsepower to numeric data type."
   ]
  },
  {
   "cell_type": "code",
   "execution_count": 17,
   "metadata": {
    "id": "4_CFS1BH_RyP",
    "outputId": "e1119eae-ac7b-4184-9bd5-805725092976"
   },
   "outputs": [
    {
     "data": {
      "text/plain": [
       "mpg         float64\n",
       "cyl           int64\n",
       "disp        float64\n",
       "hp          float64\n",
       "wt            int64\n",
       "acc         float64\n",
       "yr            int64\n",
       "origin        int64\n",
       "car_type      int64\n",
       "dtype: object"
      ]
     },
     "execution_count": 17,
     "metadata": {},
     "output_type": "execute_result"
    }
   ],
   "source": [
    "data.dtypes #confirm the change in data type for horsepower (hp)."
   ]
  },
  {
   "cell_type": "code",
   "execution_count": 18,
   "metadata": {
    "id": "VTVXNU0W_RyP"
   },
   "outputs": [],
   "source": [
    "# creating a copy of the data for future use (if required) after hypothesis testing\n",
    "data_copy=data.copy()"
   ]
  },
  {
   "cell_type": "markdown",
   "metadata": {
    "id": "WcqF9YEi_RyQ"
   },
   "source": [
    "## Descriptive Analytics"
   ]
  },
  {
   "cell_type": "code",
   "execution_count": 19,
   "metadata": {
    "colab": {
     "base_uri": "https://localhost:8080/",
     "height": 163
    },
    "id": "5Y1OavhP_RyQ",
    "outputId": "b7c1b369-444f-4df9-a0fc-379b98f99385"
   },
   "outputs": [
    {
     "data": {
      "text/html": [
       "<div>\n",
       "<style scoped>\n",
       "    .dataframe tbody tr th:only-of-type {\n",
       "        vertical-align: middle;\n",
       "    }\n",
       "\n",
       "    .dataframe tbody tr th {\n",
       "        vertical-align: top;\n",
       "    }\n",
       "\n",
       "    .dataframe thead th {\n",
       "        text-align: right;\n",
       "    }\n",
       "</style>\n",
       "<table border=\"1\" class=\"dataframe\">\n",
       "  <thead>\n",
       "    <tr style=\"text-align: right;\">\n",
       "      <th></th>\n",
       "      <th>count</th>\n",
       "      <th>mean</th>\n",
       "      <th>std</th>\n",
       "      <th>min</th>\n",
       "      <th>25%</th>\n",
       "      <th>50%</th>\n",
       "      <th>75%</th>\n",
       "      <th>max</th>\n",
       "    </tr>\n",
       "  </thead>\n",
       "  <tbody>\n",
       "    <tr>\n",
       "      <th>mpg</th>\n",
       "      <td>398.0</td>\n",
       "      <td>23.514573</td>\n",
       "      <td>7.815984</td>\n",
       "      <td>9.0</td>\n",
       "      <td>17.500</td>\n",
       "      <td>23.0</td>\n",
       "      <td>29.000</td>\n",
       "      <td>46.6</td>\n",
       "    </tr>\n",
       "    <tr>\n",
       "      <th>cyl</th>\n",
       "      <td>398.0</td>\n",
       "      <td>5.454774</td>\n",
       "      <td>1.701004</td>\n",
       "      <td>3.0</td>\n",
       "      <td>4.000</td>\n",
       "      <td>4.0</td>\n",
       "      <td>8.000</td>\n",
       "      <td>8.0</td>\n",
       "    </tr>\n",
       "    <tr>\n",
       "      <th>disp</th>\n",
       "      <td>398.0</td>\n",
       "      <td>193.425879</td>\n",
       "      <td>104.269838</td>\n",
       "      <td>68.0</td>\n",
       "      <td>104.250</td>\n",
       "      <td>148.5</td>\n",
       "      <td>262.000</td>\n",
       "      <td>455.0</td>\n",
       "    </tr>\n",
       "    <tr>\n",
       "      <th>hp</th>\n",
       "      <td>398.0</td>\n",
       "      <td>104.304020</td>\n",
       "      <td>38.222625</td>\n",
       "      <td>46.0</td>\n",
       "      <td>76.000</td>\n",
       "      <td>93.5</td>\n",
       "      <td>125.000</td>\n",
       "      <td>230.0</td>\n",
       "    </tr>\n",
       "    <tr>\n",
       "      <th>wt</th>\n",
       "      <td>398.0</td>\n",
       "      <td>2970.424623</td>\n",
       "      <td>846.841774</td>\n",
       "      <td>1613.0</td>\n",
       "      <td>2223.750</td>\n",
       "      <td>2803.5</td>\n",
       "      <td>3608.000</td>\n",
       "      <td>5140.0</td>\n",
       "    </tr>\n",
       "    <tr>\n",
       "      <th>acc</th>\n",
       "      <td>398.0</td>\n",
       "      <td>15.568090</td>\n",
       "      <td>2.757689</td>\n",
       "      <td>8.0</td>\n",
       "      <td>13.825</td>\n",
       "      <td>15.5</td>\n",
       "      <td>17.175</td>\n",
       "      <td>24.8</td>\n",
       "    </tr>\n",
       "    <tr>\n",
       "      <th>yr</th>\n",
       "      <td>398.0</td>\n",
       "      <td>76.010050</td>\n",
       "      <td>3.697627</td>\n",
       "      <td>70.0</td>\n",
       "      <td>73.000</td>\n",
       "      <td>76.0</td>\n",
       "      <td>79.000</td>\n",
       "      <td>82.0</td>\n",
       "    </tr>\n",
       "    <tr>\n",
       "      <th>origin</th>\n",
       "      <td>398.0</td>\n",
       "      <td>1.572864</td>\n",
       "      <td>0.802055</td>\n",
       "      <td>1.0</td>\n",
       "      <td>1.000</td>\n",
       "      <td>1.0</td>\n",
       "      <td>2.000</td>\n",
       "      <td>3.0</td>\n",
       "    </tr>\n",
       "    <tr>\n",
       "      <th>car_type</th>\n",
       "      <td>398.0</td>\n",
       "      <td>0.530151</td>\n",
       "      <td>0.499718</td>\n",
       "      <td>0.0</td>\n",
       "      <td>0.000</td>\n",
       "      <td>1.0</td>\n",
       "      <td>1.000</td>\n",
       "      <td>1.0</td>\n",
       "    </tr>\n",
       "  </tbody>\n",
       "</table>\n",
       "</div>"
      ],
      "text/plain": [
       "          count         mean         std     min       25%     50%       75%  \\\n",
       "mpg       398.0    23.514573    7.815984     9.0    17.500    23.0    29.000   \n",
       "cyl       398.0     5.454774    1.701004     3.0     4.000     4.0     8.000   \n",
       "disp      398.0   193.425879  104.269838    68.0   104.250   148.5   262.000   \n",
       "hp        398.0   104.304020   38.222625    46.0    76.000    93.5   125.000   \n",
       "wt        398.0  2970.424623  846.841774  1613.0  2223.750  2803.5  3608.000   \n",
       "acc       398.0    15.568090    2.757689     8.0    13.825    15.5    17.175   \n",
       "yr        398.0    76.010050    3.697627    70.0    73.000    76.0    79.000   \n",
       "origin    398.0     1.572864    0.802055     1.0     1.000     1.0     2.000   \n",
       "car_type  398.0     0.530151    0.499718     0.0     0.000     1.0     1.000   \n",
       "\n",
       "             max  \n",
       "mpg         46.6  \n",
       "cyl          8.0  \n",
       "disp       455.0  \n",
       "hp         230.0  \n",
       "wt        5140.0  \n",
       "acc         24.8  \n",
       "yr          82.0  \n",
       "origin       3.0  \n",
       "car_type     1.0  "
      ]
     },
     "execution_count": 19,
     "metadata": {},
     "output_type": "execute_result"
    }
   ],
   "source": [
    "data.describe().transpose() # transpose is only to get the column names on the vertical axis."
   ]
  },
  {
   "cell_type": "markdown",
   "metadata": {
    "id": "spfAVNHI_RyQ"
   },
   "source": [
    "## Key Observations\n",
    "\n",
    "For disp column\n",
    "1. Disp column mean (193.42) is greater than median (148.5) indicating preasence of long tail on the right side of the distribution.\n",
    "2. The left side tail( difference between 1st quartile and minima) is 36 units approx. while the right side tail ( max - 3rd quartile) is 193 units,more than 5 times longer than the left side tail. This indicated preasence of potential outliers on the right side.\n",
    "3. The difference between 3rd quartile (262) and 2nd quartile (148.5) is 113.5 units. The difference between 2nd quartile and first quartile (104.25) is 44.25 units, this indicates that there is a skew in the distribution.\n",
    "\n",
    "Similar analysis can be done for all other numerical columns to understand the distribution charecteristics and identify columns with potential outliers.\n",
    "We can do the same analysis using the skew function or visual approach of the sns pairplot."
   ]
  },
  {
   "cell_type": "code",
   "execution_count": 20,
   "metadata": {
    "id": "n2-yI_KW_RyQ",
    "outputId": "241a0efa-35d4-4261-cff4-a72ad2529fd6"
   },
   "outputs": [
    {
     "data": {
      "text/html": [
       "<div>\n",
       "<style scoped>\n",
       "    .dataframe tbody tr th:only-of-type {\n",
       "        vertical-align: middle;\n",
       "    }\n",
       "\n",
       "    .dataframe tbody tr th {\n",
       "        vertical-align: top;\n",
       "    }\n",
       "\n",
       "    .dataframe thead th {\n",
       "        text-align: right;\n",
       "    }\n",
       "</style>\n",
       "<table border=\"1\" class=\"dataframe\">\n",
       "  <thead>\n",
       "    <tr style=\"text-align: right;\">\n",
       "      <th></th>\n",
       "      <th>Skewness</th>\n",
       "    </tr>\n",
       "  </thead>\n",
       "  <tbody>\n",
       "    <tr>\n",
       "      <th>cyl</th>\n",
       "      <td>0.524934</td>\n",
       "    </tr>\n",
       "    <tr>\n",
       "      <th>disp</th>\n",
       "      <td>0.716930</td>\n",
       "    </tr>\n",
       "    <tr>\n",
       "      <th>hp</th>\n",
       "      <td>1.102051</td>\n",
       "    </tr>\n",
       "    <tr>\n",
       "      <th>wt</th>\n",
       "      <td>0.529059</td>\n",
       "    </tr>\n",
       "    <tr>\n",
       "      <th>acc</th>\n",
       "      <td>0.277725</td>\n",
       "    </tr>\n",
       "    <tr>\n",
       "      <th>yr</th>\n",
       "      <td>0.011491</td>\n",
       "    </tr>\n",
       "  </tbody>\n",
       "</table>\n",
       "</div>"
      ],
      "text/plain": [
       "      Skewness\n",
       "cyl   0.524934\n",
       "disp  0.716930\n",
       "hp    1.102051\n",
       "wt    0.529059\n",
       "acc   0.277725\n",
       "yr    0.011491"
      ]
     },
     "execution_count": 20,
     "metadata": {},
     "output_type": "execute_result"
    }
   ],
   "source": [
    "# computing the skewness in each column.\n",
    "Skewness = pd.DataFrame({'Skewness' : [stats.skew(data.cyl),stats.skew(data.disp),stats.skew(data.hp),\n",
    "                                      stats.skew(data.wt),stats.skew(data.acc),stats.skew(data.yr)]},\n",
    "                        index=['cyl','disp','hp','wt','acc','yr']) \n",
    "Skewness "
   ]
  },
  {
   "cell_type": "markdown",
   "metadata": {
    "id": "amPkXz34_RyQ"
   },
   "source": [
    "## Observations \n",
    "\n",
    "1. From the above table for skewness we can infer that hp is highly skewed and disp is moderately skewed.\n",
    "2. Skew range and interpretation\n",
    "\n",
    "    a. if skewness is less than -1 or more than 1, the distreibution is highly skewed \n",
    "    b. if skewness is between -1 and -0.5 or between 0.5 and 1, the distribution is moderately skewed \n",
    "    c. if skewness is between -0.5 and 0.5 the distribution is approximately symmetric.\n",
    "\n",
    " "
   ]
  },
  {
   "cell_type": "markdown",
   "metadata": {
    "id": "sqaWVDUV_RyQ"
   },
   "source": [
    "## Visualise the distributions using displot."
   ]
  },
  {
   "cell_type": "code",
   "execution_count": 21,
   "metadata": {
    "id": "Mx-1N0tt_RyQ",
    "outputId": "abee727a-bcc5-4813-9608-f45243df1511"
   },
   "outputs": [
    {
     "data": {
      "text/plain": [
       "<matplotlib.axes._subplots.AxesSubplot at 0x1e3a1d41100>"
      ]
     },
     "execution_count": 21,
     "metadata": {},
     "output_type": "execute_result"
    },
    {
     "data": {
      "image/png": "[encoded data removed]",
      "text/plain": [
       "<Figure size 1440x1080 with 6 Axes>"
      ]
     },
     "metadata": {
      "needs_background": "light"
     },
     "output_type": "display_data"
    }
   ],
   "source": [
    "plt.figure(figsize= (20,15))\n",
    "plt.subplot(3,3,1)\n",
    "sns.distplot(data['cyl'], color='lightgreen')\n",
    "\n",
    "plt.subplot(3,3,2)\n",
    "sns.distplot(data['disp'], color='lightgreen')\n",
    "\n",
    "plt.subplot(3,3,3)\n",
    "sns.distplot(data['hp'], color='lightgreen')\n",
    "\n",
    "plt.subplot(3,3,4)\n",
    "sns.distplot(data['wt'], color='lightgreen')\n",
    "\n",
    "plt.subplot(3,3,5)\n",
    "sns.distplot(data['acc'], color='lightgreen')\n",
    "\n",
    "plt.subplot(3,3,6)\n",
    "sns.distplot(data['yr'], color='lightgreen')"
   ]
  },
  {
   "cell_type": "markdown",
   "metadata": {
    "id": "Pt1QLa_l_RyQ"
   },
   "source": [
    "## Observations\n",
    "\n",
    "1. We can see multiple peaks in the plot for cyl, this is because the column values are discrete.(4,6 and 8)\n",
    "2. Variables disp,hp anf wt are right skewed indicating possible outliers\n",
    "3. Acc show a symmetric distribution which shows ver few cars with large and small values most have acceleration centered at 15 - 17 units. Most of the cars seem to be small and mid size. \n",
    "\n",
    "Given the long tails in some distributions, let us analyze the distributions using box plot as that will highlight the outliers."
   ]
  },
  {
   "cell_type": "code",
   "execution_count": 22,
   "metadata": {
    "id": "Ff0WEOQ-_RyQ",
    "outputId": "a5a419ae-05f3-4af6-e5a6-70522c846a00"
   },
   "outputs": [
    {
     "data": {
      "text/plain": [
       "<matplotlib.axes._subplots.AxesSubplot at 0x1e3a28154f0>"
      ]
     },
     "execution_count": 22,
     "metadata": {},
     "output_type": "execute_result"
    },
    {
     "data": {
      "image/png": "[encoded data removed]",
      "text/plain": [
       "<Figure size 1440x1080 with 4 Axes>"
      ]
     },
     "metadata": {
      "needs_background": "light"
     },
     "output_type": "display_data"
    }
   ],
   "source": [
    "#using boxplots to visualise the outliers \n",
    "plt.figure(figsize= (20,15))\n",
    "\n",
    "plt.subplot(3,3,1)\n",
    "sns.boxplot(x= data.disp, color='lightgreen')\n",
    "\n",
    "plt.subplot(3,3,2)\n",
    "sns.boxplot(x= data.hp, color='lightgreen')\n",
    "\n",
    "plt.subplot(3,3,3)\n",
    "sns.boxplot(x= data.wt, color='lightgreen')\n",
    "\n",
    "plt.subplot(3,3,4)\n",
    "sns.boxplot(x= data.acc, color='lightgreen')\n"
   ]
  },
  {
   "cell_type": "markdown",
   "metadata": {
    "id": "DfNPn1-A_RyQ"
   },
   "source": [
    "## Observations\n",
    "\n",
    "1. Boxplot is done only for continuous variables\n",
    "2. Outliers (1.5 std deveations + or - 3rd quartile, 1st quartile respectively) are present only in hp and acc.\n",
    "3. Hp column seems to have cars with extreme high values for horsepower.\n",
    "4. Acceleration column seems to have extreme values both on lower side and upper side. \n",
    "5. The outliers could be because of typing errors or rare but possible casses. \n",
    "6. Displacement column seems to have relatively large right skew in the body of the distribution though it does not have any outliers.\n",
    "\n",
    "Given the outliers we need to explore the reasons for these outliers and fix them if required."
   ]
  },
  {
   "cell_type": "code",
   "execution_count": 23,
   "metadata": {
    "id": "F8r1HMfL_RyQ",
    "outputId": "b39f2ec7-573a-4892-a87b-f0dbaec28f6a"
   },
   "outputs": [
    {
     "data": {
      "text/plain": [
       "5      True\n",
       "6      True\n",
       "7      True\n",
       "8      True\n",
       "13     True\n",
       "25     True\n",
       "26     True\n",
       "27     True\n",
       "28     True\n",
       "67     True\n",
       "90     True\n",
       "94     True\n",
       "95     True\n",
       "116    True\n",
       "Name: hp, dtype: bool"
      ]
     },
     "execution_count": 23,
     "metadata": {},
     "output_type": "execute_result"
    }
   ],
   "source": [
    "#identifying outlier records for horsepower.\n",
    "\n",
    "temp_out_hp=data['hp']>190\n",
    "temp_out_hp\n",
    "temp_out_hp[temp_out_hp==True]"
   ]
  },
  {
   "cell_type": "markdown",
   "metadata": {
    "id": "cA7bfdLh_RyQ"
   },
   "source": [
    "## Observations on hp outliers \n",
    "\n",
    "1. All the cars have valid hp values as per the information on the web\n",
    "2. Some of these cars are rare as they were manufactured only in few numbers."
   ]
  },
  {
   "cell_type": "code",
   "execution_count": 24,
   "metadata": {
    "id": "CLoAnbF3_RyQ",
    "outputId": "46537806-bb55-4321-a7d0-244c588b9913"
   },
   "outputs": [
    {
     "data": {
      "text/plain": [
       "59     True\n",
       "195    True\n",
       "196    True\n",
       "209    True\n",
       "244    True\n",
       "299    True\n",
       "300    True\n",
       "325    True\n",
       "326    True\n",
       "328    True\n",
       "394    True\n",
       "Name: acc, dtype: bool"
      ]
     },
     "execution_count": 24,
     "metadata": {},
     "output_type": "execute_result"
    }
   ],
   "source": [
    "# identifying outlier records in acc \n",
    "\n",
    "temp_out_acc= (data['acc']<8) | (data['acc']>21)\n",
    "temp_out_acc\n",
    "temp_out_acc[temp_out_acc==True]"
   ]
  },
  {
   "cell_type": "markdown",
   "metadata": {
    "id": "iKqoGJpJ_RyR"
   },
   "source": [
    "## Observations for outliers in acceleration column \n",
    "\n",
    "1. Acceleration column reflects the amount of time in seconds taken by a car to reach 60mph ( approx. 100kmh).\n",
    "2. Some cars listed above have significantly lower acceleration (take more time to reach 60mph) than specified in their specs.\n",
    "3. This could be due to the age factor (old cars have lower acceleration than specified) or a typo.\n",
    "4. The strategies for replacing outliers could be as follows \n",
    "         a. Since there are cars whith similar age and brand but very low acceleration we can replace the outliers brandwise. However this can become a difficult option as the car names are not standardised.\n",
    "         b. Replace outliers with values imputed using knn algorithm as this will ensure all similar cars have similar acceleration. However this may not be true in the real world. Two cars similar in size, weight, year of manufacture etc. may have different acceleration.\n",
    "         c. Replace outliers with median of the column because median as a central value represents the charecteristic of all the cars. However this can be misleading as the charecteristicsof the car can be very different. for eg as small car will have larger acceleration value than a big heavy SUV.\n",
    "         d. Group the cars based on charecteristics and replace the outliers groupwise. This approach is similar to knn and hence has the same drawback as knn.\n",
    "         e. Replace the outliers with the quartile values ( also known as capping). Since most of the outliers are close to the edge of 1.5 std dev from the quartiles this method seems to be the safest approach compared to others in terms of the impact on the distribution charecteristics of the column.\n",
    "         \n",
    "5. In this case we are going to use the approach in 4.e. to replace outliers \n",
    "6. Whichever approach we use should be verified by doing a hypothesis testing on the column before and after the outlier fixing. For eg. using paired t-test.\n",
    "         "
   ]
  },
  {
   "cell_type": "markdown",
   "metadata": {
    "id": "ZPIKq3Zm_RyR"
   },
   "source": [
    "## Handling outliers \n",
    "\n",
    "1. Even though the outliers in horsepower column are valid values we will replace them with the nearest quartiles as there are only few records (14) with these extreme values.\n",
    "2. We are replacing the outliers in acceleration column with the quartile values.\n",
    "     "
   ]
  },
  {
   "cell_type": "code",
   "execution_count": 25,
   "metadata": {
    "id": "Z0qvh-Bm_RyR"
   },
   "outputs": [],
   "source": [
    "data['hp']=data['hp'].clip(lower=data['hp'].quantile(0.05), upper=data['hp'].quantile(0.95))\n",
    "data['acc']=data['acc'].clip(lower=data['acc'].quantile(0.05), upper=data['acc'].quantile(0.95))"
   ]
  },
  {
   "cell_type": "markdown",
   "metadata": {
    "id": "Z1QeQW5m_RyR"
   },
   "source": [
    "Now that the outliers have been replaced, lets plot the boxplots again to check if we've managed to get rid of the outliers "
   ]
  },
  {
   "cell_type": "code",
   "execution_count": 26,
   "metadata": {
    "id": "ZUQxQwf1_RyR",
    "outputId": "d17df8a9-70fe-4b15-b16b-aa42fd9cbd0f"
   },
   "outputs": [
    {
     "data": {
      "text/plain": [
       "<matplotlib.axes._subplots.AxesSubplot at 0x1e3a289b4f0>"
      ]
     },
     "execution_count": 26,
     "metadata": {},
     "output_type": "execute_result"
    },
    {
     "data": {
      "image/png": "[encoded data removed]",
      "text/plain": [
       "<Figure size 432x288 with 1 Axes>"
      ]
     },
     "metadata": {
      "needs_background": "light"
     },
     "output_type": "display_data"
    }
   ],
   "source": [
    "sns.boxplot(data['hp'],color='lightgreen')\n"
   ]
  },
  {
   "cell_type": "code",
   "execution_count": 27,
   "metadata": {
    "id": "OzeWZjWK_RyR",
    "outputId": "b3f4b4f8-6397-4738-db68-490a4cdbe328"
   },
   "outputs": [
    {
     "data": {
      "text/plain": [
       "<matplotlib.axes._subplots.AxesSubplot at 0x1e3a292c670>"
      ]
     },
     "execution_count": 27,
     "metadata": {},
     "output_type": "execute_result"
    },
    {
     "data": {
      "image/png": "[encoded data removed]",
      "text/plain": [
       "<Figure size 432x288 with 1 Axes>"
      ]
     },
     "metadata": {
      "needs_background": "light"
     },
     "output_type": "display_data"
    }
   ],
   "source": [
    "sns.boxplot(data['acc'],color='lightgreen')"
   ]
  },
  {
   "cell_type": "markdown",
   "metadata": {
    "id": "lAObNc_K_RyR"
   },
   "source": [
    "Note : Though in this case the outliers have been addressed for both the columns and we do not see any new outliers, this may not be the case all the time. The reason is by fixing outliers we modify the standard deveations (reduce) and as a result we reduce the vlaue of 1.5 standard deveation. Because of this reduced 1.5 standard deveation data points which were earlier not outliers may now appear as outliers.\n",
    "In case we observe new outliers we can ignore them and continue with our processing."
   ]
  },
  {
   "cell_type": "markdown",
   "metadata": {
    "id": "-Av0bVae_RyR"
   },
   "source": [
    "##  Hypothesis Testing for impact of outlier fixing using dependent t test "
   ]
  },
  {
   "cell_type": "code",
   "execution_count": 28,
   "metadata": {
    "id": "lm6EKGkq_RyR",
    "outputId": "f7a23082-c6b5-4c71-d0db-81d16020196a"
   },
   "outputs": [
    {
     "name": "stdout",
     "output_type": "stream",
     "text": [
      "0.01282492213356902\n",
      "reject null hypothesis\n"
     ]
    }
   ],
   "source": [
    "# Ho : No significant difference in the distribution after outlier treatment \n",
    "# Ha : There is a significant difference in the distribution after outlier treatment \n",
    "\n",
    "# for hp column \n",
    "t, pval= stats.ttest_rel(data_copy['hp'],data['hp'])\n",
    "print(float(pval))\n",
    "if pval<0.05:\n",
    "    print('reject null hypothesis')\n",
    "else:\n",
    "    print('accept null hypothesis')\n"
   ]
  },
  {
   "cell_type": "markdown",
   "metadata": {
    "id": "i7-i5voo_RyR"
   },
   "source": [
    "Based on hypothesis testing of the horsepower column the stratergy of replacing outliers in horsepower with quartiles is not a good option and the result is likely to be same (reject null hypothesis) for anyother stratergy on this column.Hence we will continue to use the column values as they are without replacing the outliers."
   ]
  },
  {
   "cell_type": "code",
   "execution_count": 29,
   "metadata": {
    "id": "w1cXGIPl_RyR"
   },
   "outputs": [],
   "source": [
    "data['hp']=data_copy['hp'] # copyting data from the backup for horsepower column to eliminate the imputed values for outliers."
   ]
  },
  {
   "cell_type": "code",
   "execution_count": 30,
   "metadata": {
    "id": "up5ZBsfo_RyR",
    "outputId": "177fbeb1-baac-4292-f3ec-98a7082ae94e"
   },
   "outputs": [
    {
     "name": "stdout",
     "output_type": "stream",
     "text": [
      "0.5857015643534299\n",
      "accept null hypothesis\n"
     ]
    }
   ],
   "source": [
    "# for acc column \n",
    "t, pval= stats.ttest_rel(data_copy['acc'],data['acc'])\n",
    "print(float(pval))\n",
    "if pval<0.05:\n",
    "    print('reject null hypothesis')\n",
    "else:\n",
    "    print('accept null hypothesis')"
   ]
  },
  {
   "cell_type": "markdown",
   "metadata": {
    "id": "rMlEuBVL_RyR"
   },
   "source": [
    "Based on the hypothesis testing we can see that the distribution before and after fixing the outliers seem to be similar and hence we will continue with the stratergy in this column."
   ]
  },
  {
   "cell_type": "markdown",
   "metadata": {
    "id": "jbELxmCW_RyR"
   },
   "source": [
    "## Feature Selection and correlation analysis "
   ]
  },
  {
   "cell_type": "markdown",
   "metadata": {
    "id": "w7jFmGhn_RyR"
   },
   "source": [
    "We can do a correlation analysis between the attributes to understand the strength and direction of correlation between the dependent (mpg) , independent (other variables) and between the independent variables."
   ]
  },
  {
   "cell_type": "code",
   "execution_count": 31,
   "metadata": {
    "id": "VIpSomyb_RyR",
    "outputId": "e8a5a727-119f-4778-d68f-309622a7a604"
   },
   "outputs": [
    {
     "data": {
      "text/plain": [
       "(9.5, -0.5)"
      ]
     },
     "execution_count": 31,
     "metadata": {},
     "output_type": "execute_result"
    },
    {
     "data": {
      "image/png": "[encoded data removed]",
      "text/plain": [
       "<Figure size 504x504 with 2 Axes>"
      ]
     },
     "metadata": {
      "needs_background": "light"
     },
     "output_type": "display_data"
    }
   ],
   "source": [
    "f, ax = plt.subplots(figsize=(7, 7))\n",
    "corr=data.corr('pearson')\n",
    "cp=sns.heatmap(corr,mask=np.zeros_like(corr,dtype=np.bool),cmap=sns.diverging_palette(200,10,as_cmap=True),square=True,ax=ax,annot=True)\n",
    "bottom,top = cp.get_ylim()\n",
    "cp.set_ylim(bottom+0.5,top-0.5) #matplotlib version to 3.1.1 has a bug in the plot and mistakes in the y-axis"
   ]
  },
  {
   "cell_type": "markdown",
   "metadata": {
    "id": "OOzKP5Tk_RyR"
   },
   "source": [
    "## Observations \n",
    "\n",
    "1. mpg has a strong negative correlation with cyl (-0.78), displacement (-0.8), hp (-0.77) and wt (-0.83). This is as per our understanding of the relation between these variables and mpg.\n",
    "2. Between mpg and acc, yr we see a positive weak correlation.\n",
    "3. As the yr ( year of manufacture) increases the car becomes younger in age and hence mileage is higher, this causes the positive correlation between mpg and year.\n",
    "4. The correlation between mpg and acc is small and positive, the reason for this is small cars accelerate faster and also give higher mileage. However the weak correlation (0.41) is surprising as we expect to see a strong positive correlation.\n",
    "5. The correlation between the cylinder and mpg columns is strong negative, thisis due to the fact that as number of cylinders increase the loss due to friction and heat increase leading to lower mileage.\n",
    "6. Between the attributes, such as horse power, weight, displacement and cylinder we see a strong positive colinearity (correlation between independent attributes). This shows that the attributes are not truly independent of each other. \n",
    "7. We can use the columns cylinder, displacement, horesepower, weight and year to predict miles per gallon.\n",
    "8. Corr plot gives a quantitative idea about the correlation but we also need to check whether the correlation is strictly linear or curved for which we will use pairplot."
   ]
  },
  {
   "cell_type": "markdown",
   "metadata": {
    "id": "RfKg3VBk_RyR"
   },
   "source": [
    "## Pairplot Analysis "
   ]
  },
  {
   "cell_type": "code",
   "execution_count": null,
   "metadata": {
    "id": "_wQDYdv2_RyR",
    "outputId": "8b5035cd-fdf1-4079-dd6b-e96c6c34a122"
   },
   "outputs": [],
   "source": [
    "sns.pairplot(data,diag_kind='kde') # kde stands for kernel density estimate, i.e. how the distribution is in the population, \n",
    "                                   # based on gaussian projection of the data at hand \n",
    "                                   # using a mathematical function also called kernel."
   ]
  },
  {
   "cell_type": "markdown",
   "metadata": {
    "id": "AUkGz212_RyR"
   },
   "source": [
    "## Observations \n",
    "\n",
    "1. Diagonal analysis\n",
    "    a. In the cylinder column we see three peaks because this is a categorical column where majority of the car have 3 distinct values.\n",
    "    b. In disp column again we see multiple peaks which should be explored to understand what causes these peaks, is it because of missing values or some kind of natureal groupings in the data.\n",
    "\n",
    "2. Off - daigonal\n",
    "    a. The relationship between mpg and disp, hp and weight is not strictly linear. We can see a curvature in the scatterplot.\n",
    "    b. In the scatterplot for mpg vs acc we see a weak positive correlation but the scatter plot looks almost like a cloud indicating that it is not likely to be a good predictor of mpg.\n",
    "    c. Between mpg and year we see a weak linear positive correlation.\n",
    "    d. Between the attributes cyl,disp,hp,wt and yr we see strong positive colinearity.\n",
    "\n",
    "Lets explore the occurences of multiple peaks in the various columns and check the preasence of any clusters in the data."
   ]
  },
  {
   "cell_type": "markdown",
   "metadata": {
    "id": "wUrGcf18_RyR"
   },
   "source": [
    "## Cluster Analysis using K-means and Hierarchical Clustering"
   ]
  },
  {
   "cell_type": "markdown",
   "metadata": {
    "id": "6m3ViWgQ_RyR"
   },
   "source": [
    "Clustering helps us to extract hidden infromation in the data which usually is not visible through descriptive analytics. Clustering uses distance calculations to identify similar data points hence it it important that we scale the data on all the attributes to prevent attributes with larger scale from influencing the distance dispropotionately for which we will use Z-scoring."
   ]
  },
  {
   "cell_type": "code",
   "execution_count": null,
   "metadata": {
    "id": "r1Ns5YPG_RyS"
   },
   "outputs": [],
   "source": [
    "from scipy.stats import zscore\n",
    "data_z=data.apply(zscore)"
   ]
  },
  {
   "cell_type": "code",
   "execution_count": null,
   "metadata": {
    "id": "hYEqQrfj_RyS",
    "outputId": "ff88dcfd-9b01-4f94-d9a7-e14e93d14e1b"
   },
   "outputs": [],
   "source": [
    "data.info()"
   ]
  },
  {
   "cell_type": "code",
   "execution_count": null,
   "metadata": {
    "id": "64O6Yo1p_RyS",
    "outputId": "a6b54a0e-6d8d-447c-9197-e32d016ed8d6"
   },
   "outputs": [],
   "source": [
    "# Finding the optimal number of clusters using Elbow method\n",
    "\n",
    "\n",
    "clusters=range(1,10)  # creating one single cluster is useless, starting from two\n",
    "meanDistortions=[] # array to hold within cluster variance, a.k.a inertia\n",
    "\n",
    "for k in clusters:\n",
    "    model= KMeans(n_clusters=k)\n",
    "    model.fit(data_z)\n",
    "    prediction= model.predict(data_z)\n",
    "    meanDistortions.append(sum(np.min(cdist(data_z, model.cluster_centers_, 'euclidean'), axis=1)) / data_z.shape[0])\n",
    "\n",
    "plt.plot(clusters, meanDistortions, 'bx-')  # usign blue cross for every number of cluster value and mean distortion\n",
    "plt.xlabel('k')\n",
    "plt.ylabel('Average distortion')\n",
    "plt.title('Selecting k with the Elbow Method')\n",
    "\n",
    "# Note: we can replace calculation of meandistortion with another function called cluster.inertia that does all the calculation\n",
    "# automatically\n",
    "#meanDistortion.append(model.inertia_)"
   ]
  },
  {
   "cell_type": "markdown",
   "metadata": {
    "id": "8rIT2GLu_RyS"
   },
   "source": [
    "## Observations\n",
    "\n",
    "1. The elbow plot shows two potential candidates for number of clusters which are k = 3 and  k = 4 where k is number of clusters\n"
   ]
  },
  {
   "cell_type": "code",
   "execution_count": null,
   "metadata": {
    "id": "fHkfLDJx_RyS"
   },
   "outputs": [],
   "source": [
    "# Let us first start with K = 3\n",
    "final_model=KMeans(3)  \n",
    "final_model.fit(data_z)   # defines three clusters \n",
    "prediction=final_model.predict(data_z)  # captures which cluster each data point in the datset belongs to\n",
    "\n",
    "#Append the prediction \n",
    "data_z[\"Group\"] = prediction  # creating a new column in the dataframe to reflect which cluster a record belongs to"
   ]
  },
  {
   "cell_type": "code",
   "execution_count": null,
   "metadata": {
    "id": "9ga82WJw_RyS",
    "outputId": "36a6886c-2eb8-4973-d868-b96db063c7e7"
   },
   "outputs": [],
   "source": [
    "data_z.groupby(['Group']).count()"
   ]
  },
  {
   "cell_type": "markdown",
   "metadata": {
    "id": "S-__POhr_RyS"
   },
   "source": [
    "Let us analyze 3 cluster first using boxplot.In this each cluster will be represented as a box with the quartiles and whiskers in each individual dimension."
   ]
  },
  {
   "cell_type": "markdown",
   "metadata": {
    "id": "72k6xSHP_RyS"
   },
   "source": [
    "## cluster analysis on the horsepower column"
   ]
  },
  {
   "cell_type": "code",
   "execution_count": null,
   "metadata": {
    "id": "-b7gxWX4_RyS",
    "outputId": "12cdbd98-38eb-4ebc-86bd-c89b9af65130"
   },
   "outputs": [],
   "source": [
    "data_z.boxplot(by='Group',layout=(3,3),figsize=(15,10),grid=False)"
   ]
  },
  {
   "cell_type": "markdown",
   "metadata": {
    "id": "UAMwC5jC_RyS"
   },
   "source": [
    "## Observations \n",
    "\n",
    "1. In the acceleration column the cluster id 0 and id 1 are parallel while cluster id 2 is significantly seperated out.\n",
    "2. In cylinder column the boxplot is coming as points because it is a categorical column.\n",
    "3. In the displacement column, we see the three clusters significantly seperated out. Cluster id 1 is lowest while cluster id 0 is higher and cluster id 2 is the highest.\n",
    "4. In hp column again the 3 clusters are significantly seperated out, cluster 1 is the lowest in hp, cluster 0 is higher and cluster 2 is highest.\n",
    "5. In the mpg column the three clusters are significantly seperated out. Cluster id 1 has highest mpg while cluster id 0 has 2nd highest and cluster id 2 the least.\n",
    "6. In the wt column, the three clusters are significantly seperated out. Cluster id 1 has the lowest weight, cluster id 0 has higher and the highest is cluster id 2.\n",
    "7. In the year column the clusters are seperated out but not significantly.\n",
    "\n",
    "Interpretation of the clusters \n",
    "\n",
    "1. Combining observations in point 3,4,5 and 6, cluster id 1 has lowest displacement, lowest hp, highest mpg and lowest weight. This seems to be a cluster of small cars because these are characteristics of small car.\n",
    "\n",
    "2. Similarly cluster id 0 which has higher displacement, higher hp, lesser mpg and higher wt than cluster id 1, but has lower disp, lower hp, higher mpg and lower wt than cluster id 2 seems to be a bunch of sedans (mid size cars).\n",
    "\n",
    "3. Cluster id 2 seems to be a bunch large cars which have very high horsepower, weight, displacement and low mpg.\n",
    "\n",
    "This analysis of clusters is in line with the observations in the real world where cars belong to different these 3 segments.\n",
    "There is a possibility of a fourth cluster consisting of the rare models of cars which were released in limited quantities.For out analysis we will go with 3 natural clusters.\n",
    "\n",
    "## Caution  \n",
    "The cluster ids start from 0. The cluster id may not be the same everytime the code is executed. Hence The interpretation above referring to the three cluster ids may become invalid  if the code is run again. "
   ]
  },
  {
   "cell_type": "markdown",
   "metadata": {
    "id": "2kgRrB69_RyS"
   },
   "source": [
    "## Hierarchical Clustering "
   ]
  },
  {
   "cell_type": "code",
   "execution_count": null,
   "metadata": {
    "id": "e2mk9uf__RyS"
   },
   "outputs": [],
   "source": [
    "# This is another way of clustering that can be used to confirm our findings from KMeans\n",
    "# clustering which belongs to flat clustering methods."
   ]
  },
  {
   "cell_type": "code",
   "execution_count": null,
   "metadata": {
    "id": "z5IkBBkZ_RyS"
   },
   "outputs": [],
   "source": [
    "from sklearn.cluster import AgglomerativeClustering"
   ]
  },
  {
   "cell_type": "code",
   "execution_count": null,
   "metadata": {
    "id": "mtrHauvv_RyS"
   },
   "outputs": [],
   "source": [
    "data_z=data.apply(zscore)\n",
    "\n",
    "hc_mod= AgglomerativeClustering(n_clusters=3,affinity = 'euclidean',linkage='ward') #Average linkage method is used assuming \n",
    "                                                                                       # the data on the attributes are normally\n",
    "                                                                                       #distributed"
   ]
  },
  {
   "cell_type": "code",
   "execution_count": null,
   "metadata": {
    "id": "m3RRRkYZ_RyS",
    "outputId": "763a84d5-a75a-46f2-ab68-cd3c57d41afe"
   },
   "outputs": [],
   "source": [
    "data_z.info()"
   ]
  },
  {
   "cell_type": "code",
   "execution_count": null,
   "metadata": {
    "id": "EXU4bmRY_RyS",
    "outputId": "c08b7ccd-ca74-4662-98ee-58fda5b92009"
   },
   "outputs": [],
   "source": [
    "hc_mod.fit(data_z) #Creating the hierarchical clusters "
   ]
  },
  {
   "cell_type": "code",
   "execution_count": null,
   "metadata": {
    "id": "C3ooLf4H_RyS"
   },
   "outputs": [],
   "source": [
    "# let us visualise these clusters using a dendogram \n",
    "\n",
    "from scipy.cluster.hierarchy import cophenet, dendrogram, linkage \n",
    "from scipy.spatial.distance import pdist # this function will create the pairwise euclidean distance grid for the data points."
   ]
  },
  {
   "cell_type": "code",
   "execution_count": null,
   "metadata": {
    "id": "bjuuIH0t_RyS",
    "outputId": "65b63552-cf2d-45b2-9f87-f8d136aab007"
   },
   "outputs": [
    {
     "name": "stdout",
     "output_type": "stream",
     "text": [
      "Cophenetic coefficient : 0.7728927804305963\n"
     ]
    }
   ],
   "source": [
    "avl= linkage(data_z,'ward')\n",
    "c, coph_dist=cophenet(avl,pdist(data_z))\n",
    "print('Cophenetic coefficient :',c)"
   ]
  },
  {
   "cell_type": "code",
   "execution_count": null,
   "metadata": {
    "id": "zxToAXM7_RyS",
    "outputId": "bc30ad46-447a-48ae-c0e8-41313bc005c8"
   },
   "outputs": [
    {
     "data": {
      "image/png": "[encoded data removed]",
      "text/plain": [
       "<Figure size 720x720 with 1 Axes>"
      ]
     },
     "metadata": {
      "needs_background": "light",
      "tags": []
     },
     "output_type": "display_data"
    }
   ],
   "source": [
    "# Plotting the dendrogram\n",
    "plt.figure(figsize=(10,10))\n",
    "plt.title('Agglomerative Hierarchical Clustering Dendrogra')\n",
    "plt.xlabel('sample index')\n",
    "plt.ylabel('Distance')\n",
    "dendrogram(avl, leaf_rotation=90, color_threshold =23, leaf_font_size= 8. )\n",
    "plt.tight_layout()"
   ]
  },
  {
   "cell_type": "markdown",
   "metadata": {
    "id": "URpJ6E1E_RyT"
   },
   "source": [
    "## Observations\n",
    "\n",
    "1. Of all the linkage methods (single, complete, average and ward), ward method gives the best hierarchical clusters. The \n",
    "   Cophenetic coefficient for this method is greater than 70% which is a good sign of natural clusters\n",
    "2. The reason for this could be that the ward and KMeans are similar in their objectives (minimize increase in within cluster\n",
    "   variance)\n",
    "\n",
    "Next, we will capture the cluster labels for every record and do the boxplot"
   ]
  },
  {
   "cell_type": "code",
   "execution_count": null,
   "metadata": {
    "id": "f5PZkm0__RyT"
   },
   "outputs": [],
   "source": [
    "data_z['labels']=hc_mod.labels_ #assigning the cluster labels to individual records \n"
   ]
  },
  {
   "cell_type": "code",
   "execution_count": null,
   "metadata": {
    "id": "4ZjYGsK1_RyT",
    "outputId": "d5cb073e-15c3-44f1-a002-7796b55b1ed7"
   },
   "outputs": [
    {
     "data": {
      "text/html": [
       "<div>\n",
       "<style scoped>\n",
       "    .dataframe tbody tr th:only-of-type {\n",
       "        vertical-align: middle;\n",
       "    }\n",
       "\n",
       "    .dataframe tbody tr th {\n",
       "        vertical-align: top;\n",
       "    }\n",
       "\n",
       "    .dataframe thead th {\n",
       "        text-align: right;\n",
       "    }\n",
       "</style>\n",
       "<table border=\"1\" class=\"dataframe\">\n",
       "  <thead>\n",
       "    <tr style=\"text-align: right;\">\n",
       "      <th></th>\n",
       "      <th>cyl</th>\n",
       "      <th>disp</th>\n",
       "      <th>hp</th>\n",
       "      <th>wt</th>\n",
       "      <th>acc</th>\n",
       "      <th>yr</th>\n",
       "      <th>mpg</th>\n",
       "    </tr>\n",
       "    <tr>\n",
       "      <th>labels</th>\n",
       "      <th></th>\n",
       "      <th></th>\n",
       "      <th></th>\n",
       "      <th></th>\n",
       "      <th></th>\n",
       "      <th></th>\n",
       "      <th></th>\n",
       "    </tr>\n",
       "  </thead>\n",
       "  <tbody>\n",
       "    <tr>\n",
       "      <td>0</td>\n",
       "      <td>230</td>\n",
       "      <td>230</td>\n",
       "      <td>230</td>\n",
       "      <td>230</td>\n",
       "      <td>230</td>\n",
       "      <td>230</td>\n",
       "      <td>230</td>\n",
       "    </tr>\n",
       "    <tr>\n",
       "      <td>1</td>\n",
       "      <td>99</td>\n",
       "      <td>99</td>\n",
       "      <td>99</td>\n",
       "      <td>99</td>\n",
       "      <td>99</td>\n",
       "      <td>99</td>\n",
       "      <td>99</td>\n",
       "    </tr>\n",
       "    <tr>\n",
       "      <td>2</td>\n",
       "      <td>69</td>\n",
       "      <td>69</td>\n",
       "      <td>69</td>\n",
       "      <td>69</td>\n",
       "      <td>69</td>\n",
       "      <td>69</td>\n",
       "      <td>69</td>\n",
       "    </tr>\n",
       "  </tbody>\n",
       "</table>\n",
       "</div>"
      ],
      "text/plain": [
       "        cyl  disp   hp   wt  acc   yr  mpg\n",
       "labels                                    \n",
       "0       230   230  230  230  230  230  230\n",
       "1        99    99   99   99   99   99   99\n",
       "2        69    69   69   69   69   69   69"
      ]
     },
     "execution_count": 48,
     "metadata": {
      "tags": []
     },
     "output_type": "execute_result"
    }
   ],
   "source": [
    "data_z.groupby(['labels']).count() #counting number of records in each cluster.Ensure there are no satellite clusters"
   ]
  },
  {
   "cell_type": "code",
   "execution_count": null,
   "metadata": {
    "id": "-x0qjCLX_RyT",
    "outputId": "e22f0d64-40c4-41a9-e8c2-e434531b0f9a"
   },
   "outputs": [
    {
     "data": {
      "text/plain": [
       "array([[<matplotlib.axes._subplots.AxesSubplot object at 0x0000029E71A71CC8>,\n",
       "        <matplotlib.axes._subplots.AxesSubplot object at 0x0000029E71F7BE08>,\n",
       "        <matplotlib.axes._subplots.AxesSubplot object at 0x0000029E72497CC8>],\n",
       "       [<matplotlib.axes._subplots.AxesSubplot object at 0x0000029E7250BB08>,\n",
       "        <matplotlib.axes._subplots.AxesSubplot object at 0x0000029E722B1948>,\n",
       "        <matplotlib.axes._subplots.AxesSubplot object at 0x0000029E722EB788>],\n",
       "       [<matplotlib.axes._subplots.AxesSubplot object at 0x0000029E723225C8>,\n",
       "        <matplotlib.axes._subplots.AxesSubplot object at 0x0000029E72361F08>,\n",
       "        <matplotlib.axes._subplots.AxesSubplot object at 0x0000029E72361FC8>]],\n",
       "      dtype=object)"
      ]
     },
     "execution_count": 49,
     "metadata": {
      "tags": []
     },
     "output_type": "execute_result"
    },
    {
     "data": {
      "image/png": "[encoded data removed]",
      "text/plain": [
       "<Figure size 1080x720 with 9 Axes>"
      ]
     },
     "metadata": {
      "needs_background": "light",
      "tags": []
     },
     "output_type": "display_data"
    }
   ],
   "source": [
    "data_z.boxplot(by='labels',layout=(3,3),figsize=(15,10),grid=False)"
   ]
  },
  {
   "cell_type": "markdown",
   "metadata": {
    "id": "uhMfWuDF_RyT"
   },
   "source": [
    "## Observations\n",
    "\n",
    "1. There are three natural clusters. Cluster id 0 represents small car because it is high on mpg, lowest on hp, wt and displacement. These are characterisitcs of small car\n",
    "2. Cluster id 1 represents large cars as it is lowest in mpg, highest in wt, hp and displacement. These are characterisitcs of large car\n",
    "3. Cluster id 2 is the sedans \n",
    "\n",
    "Both the hierarchical and KMeans clustering clearly demonstrate presence of three natural clusters for the three segments of cars in the industry. There are a few cars which are rare and produced in limited quantities which may form a fourth but small cluster. Hence we are going ahead with three clusters only"
   ]
  },
  {
   "cell_type": "markdown",
   "metadata": {
    "id": "wS2T9783_RyT"
   },
   "source": [
    "## Split the original data as per the cluster definitions into small, medium and large car data sets"
   ]
  },
  {
   "cell_type": "markdown",
   "metadata": {
    "id": "yR18l2Fz_RyT"
   },
   "source": [
    "1. We scaled the entire data for clustering. On finding the natural clusters, we need to split the data into three datasets which will be used for building three linear regression models\n",
    "2. For building the models when we split the scaled data into training set and test set, it will result in data leaks as the Zscored value in training is influenced by values in testing data already before the split. \n",
    "3. To prevent data leaks we will work on the original data which is not scaled.\n",
    "4. Hence we take the lables from the clusters into the original data which is not scaled\n",
    "5. Split the original data into three sets\n",
    "6. We will split the three sets into training and testing respectively \n",
    "7. We will not do any scaling on these datasets as scaling does not effect the scores of linear regression models"
   ]
  },
  {
   "cell_type": "code",
   "execution_count": null,
   "metadata": {
    "id": "4DCBx_A7_RyT"
   },
   "outputs": [],
   "source": [
    "data['labels'] = hc_mod.labels_\n",
    "# This data will be used for regression later where the reason for not using data_z will be discussed"
   ]
  },
  {
   "cell_type": "code",
   "execution_count": null,
   "metadata": {
    "id": "NYLluCPa_RyT",
    "outputId": "dc37ad80-e13a-46fe-94ef-caba4f6e1e1d"
   },
   "outputs": [
    {
     "data": {
      "text/html": [
       "<div>\n",
       "<style scoped>\n",
       "    .dataframe tbody tr th:only-of-type {\n",
       "        vertical-align: middle;\n",
       "    }\n",
       "\n",
       "    .dataframe tbody tr th {\n",
       "        vertical-align: top;\n",
       "    }\n",
       "\n",
       "    .dataframe thead th {\n",
       "        text-align: right;\n",
       "    }\n",
       "</style>\n",
       "<table border=\"1\" class=\"dataframe\">\n",
       "  <thead>\n",
       "    <tr style=\"text-align: right;\">\n",
       "      <th></th>\n",
       "      <th>cyl</th>\n",
       "      <th>disp</th>\n",
       "      <th>hp</th>\n",
       "      <th>wt</th>\n",
       "      <th>acc</th>\n",
       "      <th>yr</th>\n",
       "      <th>mpg</th>\n",
       "      <th>labels</th>\n",
       "    </tr>\n",
       "  </thead>\n",
       "  <tbody>\n",
       "    <tr>\n",
       "      <td>14</td>\n",
       "      <td>4</td>\n",
       "      <td>113.0</td>\n",
       "      <td>95.0</td>\n",
       "      <td>2372</td>\n",
       "      <td>15.000</td>\n",
       "      <td>70</td>\n",
       "      <td>24.0</td>\n",
       "      <td>0</td>\n",
       "    </tr>\n",
       "    <tr>\n",
       "      <td>18</td>\n",
       "      <td>4</td>\n",
       "      <td>97.0</td>\n",
       "      <td>88.0</td>\n",
       "      <td>2130</td>\n",
       "      <td>14.500</td>\n",
       "      <td>70</td>\n",
       "      <td>27.0</td>\n",
       "      <td>0</td>\n",
       "    </tr>\n",
       "    <tr>\n",
       "      <td>19</td>\n",
       "      <td>4</td>\n",
       "      <td>97.0</td>\n",
       "      <td>46.0</td>\n",
       "      <td>1835</td>\n",
       "      <td>20.415</td>\n",
       "      <td>70</td>\n",
       "      <td>26.0</td>\n",
       "      <td>0</td>\n",
       "    </tr>\n",
       "    <tr>\n",
       "      <td>20</td>\n",
       "      <td>4</td>\n",
       "      <td>110.0</td>\n",
       "      <td>87.0</td>\n",
       "      <td>2672</td>\n",
       "      <td>17.500</td>\n",
       "      <td>70</td>\n",
       "      <td>25.0</td>\n",
       "      <td>0</td>\n",
       "    </tr>\n",
       "    <tr>\n",
       "      <td>21</td>\n",
       "      <td>4</td>\n",
       "      <td>107.0</td>\n",
       "      <td>90.0</td>\n",
       "      <td>2430</td>\n",
       "      <td>14.500</td>\n",
       "      <td>70</td>\n",
       "      <td>24.0</td>\n",
       "      <td>0</td>\n",
       "    </tr>\n",
       "  </tbody>\n",
       "</table>\n",
       "</div>"
      ],
      "text/plain": [
       "    cyl   disp    hp    wt     acc  yr   mpg  labels\n",
       "14    4  113.0  95.0  2372  15.000  70  24.0       0\n",
       "18    4   97.0  88.0  2130  14.500  70  27.0       0\n",
       "19    4   97.0  46.0  1835  20.415  70  26.0       0\n",
       "20    4  110.0  87.0  2672  17.500  70  25.0       0\n",
       "21    4  107.0  90.0  2430  14.500  70  24.0       0"
      ]
     },
     "execution_count": 51,
     "metadata": {
      "tags": []
     },
     "output_type": "execute_result"
    }
   ],
   "source": [
    "small_df = data[data['labels']==0]\n",
    "small_df.head()"
   ]
  },
  {
   "cell_type": "code",
   "execution_count": null,
   "metadata": {
    "id": "NRMaFWg2_RyT",
    "outputId": "aa4293e8-e000-4d48-c32d-94261dc6a997"
   },
   "outputs": [
    {
     "data": {
      "text/html": [
       "<div>\n",
       "<style scoped>\n",
       "    .dataframe tbody tr th:only-of-type {\n",
       "        vertical-align: middle;\n",
       "    }\n",
       "\n",
       "    .dataframe tbody tr th {\n",
       "        vertical-align: top;\n",
       "    }\n",
       "\n",
       "    .dataframe thead th {\n",
       "        text-align: right;\n",
       "    }\n",
       "</style>\n",
       "<table border=\"1\" class=\"dataframe\">\n",
       "  <thead>\n",
       "    <tr style=\"text-align: right;\">\n",
       "      <th></th>\n",
       "      <th>cyl</th>\n",
       "      <th>disp</th>\n",
       "      <th>hp</th>\n",
       "      <th>wt</th>\n",
       "      <th>acc</th>\n",
       "      <th>yr</th>\n",
       "      <th>mpg</th>\n",
       "      <th>labels</th>\n",
       "    </tr>\n",
       "  </thead>\n",
       "  <tbody>\n",
       "    <tr>\n",
       "      <td>15</td>\n",
       "      <td>6</td>\n",
       "      <td>198.0</td>\n",
       "      <td>95.0</td>\n",
       "      <td>2833</td>\n",
       "      <td>15.5</td>\n",
       "      <td>70</td>\n",
       "      <td>22.0</td>\n",
       "      <td>2</td>\n",
       "    </tr>\n",
       "    <tr>\n",
       "      <td>16</td>\n",
       "      <td>6</td>\n",
       "      <td>199.0</td>\n",
       "      <td>97.0</td>\n",
       "      <td>2774</td>\n",
       "      <td>15.5</td>\n",
       "      <td>70</td>\n",
       "      <td>18.0</td>\n",
       "      <td>2</td>\n",
       "    </tr>\n",
       "    <tr>\n",
       "      <td>17</td>\n",
       "      <td>6</td>\n",
       "      <td>200.0</td>\n",
       "      <td>85.0</td>\n",
       "      <td>2587</td>\n",
       "      <td>16.0</td>\n",
       "      <td>70</td>\n",
       "      <td>21.0</td>\n",
       "      <td>2</td>\n",
       "    </tr>\n",
       "    <tr>\n",
       "      <td>24</td>\n",
       "      <td>6</td>\n",
       "      <td>199.0</td>\n",
       "      <td>90.0</td>\n",
       "      <td>2648</td>\n",
       "      <td>15.0</td>\n",
       "      <td>70</td>\n",
       "      <td>21.0</td>\n",
       "      <td>2</td>\n",
       "    </tr>\n",
       "    <tr>\n",
       "      <td>33</td>\n",
       "      <td>6</td>\n",
       "      <td>232.0</td>\n",
       "      <td>100.0</td>\n",
       "      <td>2634</td>\n",
       "      <td>13.0</td>\n",
       "      <td>71</td>\n",
       "      <td>19.0</td>\n",
       "      <td>2</td>\n",
       "    </tr>\n",
       "  </tbody>\n",
       "</table>\n",
       "</div>"
      ],
      "text/plain": [
       "    cyl   disp     hp    wt   acc  yr   mpg  labels\n",
       "15    6  198.0   95.0  2833  15.5  70  22.0       2\n",
       "16    6  199.0   97.0  2774  15.5  70  18.0       2\n",
       "17    6  200.0   85.0  2587  16.0  70  21.0       2\n",
       "24    6  199.0   90.0  2648  15.0  70  21.0       2\n",
       "33    6  232.0  100.0  2634  13.0  71  19.0       2"
      ]
     },
     "execution_count": 52,
     "metadata": {
      "tags": []
     },
     "output_type": "execute_result"
    }
   ],
   "source": [
    "medium_df=data[data['labels']==2]\n",
    "medium_df.head()"
   ]
  },
  {
   "cell_type": "code",
   "execution_count": null,
   "metadata": {
    "id": "jlxbUKHt_RyT",
    "outputId": "175685cd-838b-45c6-b4f5-f8dabdaa1aaa"
   },
   "outputs": [
    {
     "data": {
      "text/html": [
       "<div>\n",
       "<style scoped>\n",
       "    .dataframe tbody tr th:only-of-type {\n",
       "        vertical-align: middle;\n",
       "    }\n",
       "\n",
       "    .dataframe tbody tr th {\n",
       "        vertical-align: top;\n",
       "    }\n",
       "\n",
       "    .dataframe thead th {\n",
       "        text-align: right;\n",
       "    }\n",
       "</style>\n",
       "<table border=\"1\" class=\"dataframe\">\n",
       "  <thead>\n",
       "    <tr style=\"text-align: right;\">\n",
       "      <th></th>\n",
       "      <th>cyl</th>\n",
       "      <th>disp</th>\n",
       "      <th>hp</th>\n",
       "      <th>wt</th>\n",
       "      <th>acc</th>\n",
       "      <th>yr</th>\n",
       "      <th>mpg</th>\n",
       "      <th>labels</th>\n",
       "    </tr>\n",
       "  </thead>\n",
       "  <tbody>\n",
       "    <tr>\n",
       "      <td>0</td>\n",
       "      <td>8</td>\n",
       "      <td>307.0</td>\n",
       "      <td>130.0</td>\n",
       "      <td>3504</td>\n",
       "      <td>12.000</td>\n",
       "      <td>70</td>\n",
       "      <td>18.0</td>\n",
       "      <td>1</td>\n",
       "    </tr>\n",
       "    <tr>\n",
       "      <td>1</td>\n",
       "      <td>8</td>\n",
       "      <td>350.0</td>\n",
       "      <td>165.0</td>\n",
       "      <td>3693</td>\n",
       "      <td>11.500</td>\n",
       "      <td>70</td>\n",
       "      <td>15.0</td>\n",
       "      <td>1</td>\n",
       "    </tr>\n",
       "    <tr>\n",
       "      <td>2</td>\n",
       "      <td>8</td>\n",
       "      <td>318.0</td>\n",
       "      <td>150.0</td>\n",
       "      <td>3436</td>\n",
       "      <td>11.285</td>\n",
       "      <td>70</td>\n",
       "      <td>18.0</td>\n",
       "      <td>1</td>\n",
       "    </tr>\n",
       "    <tr>\n",
       "      <td>3</td>\n",
       "      <td>8</td>\n",
       "      <td>304.0</td>\n",
       "      <td>150.0</td>\n",
       "      <td>3433</td>\n",
       "      <td>12.000</td>\n",
       "      <td>70</td>\n",
       "      <td>16.0</td>\n",
       "      <td>1</td>\n",
       "    </tr>\n",
       "    <tr>\n",
       "      <td>4</td>\n",
       "      <td>8</td>\n",
       "      <td>302.0</td>\n",
       "      <td>140.0</td>\n",
       "      <td>3449</td>\n",
       "      <td>11.285</td>\n",
       "      <td>70</td>\n",
       "      <td>17.0</td>\n",
       "      <td>1</td>\n",
       "    </tr>\n",
       "  </tbody>\n",
       "</table>\n",
       "</div>"
      ],
      "text/plain": [
       "   cyl   disp     hp    wt     acc  yr   mpg  labels\n",
       "0    8  307.0  130.0  3504  12.000  70  18.0       1\n",
       "1    8  350.0  165.0  3693  11.500  70  15.0       1\n",
       "2    8  318.0  150.0  3436  11.285  70  18.0       1\n",
       "3    8  304.0  150.0  3433  12.000  70  16.0       1\n",
       "4    8  302.0  140.0  3449  11.285  70  17.0       1"
      ]
     },
     "execution_count": 53,
     "metadata": {
      "tags": []
     },
     "output_type": "execute_result"
    }
   ],
   "source": [
    "large_df=data[data['labels']==1]\n",
    "large_df.head()"
   ]
  },
  {
   "cell_type": "markdown",
   "metadata": {
    "id": "ajaHHiKH_RyT"
   },
   "source": [
    "Given the three distinct clustesrs, should we build one single model for predicting mpg or three different models.\n",
    "\n",
    "To decide this let us build multivariate linear regression on the entire data and separately on each cluster data\n"
   ]
  },
  {
   "cell_type": "markdown",
   "metadata": {
    "id": "2oj4Yb6V_RyT"
   },
   "source": [
    "## Multivariate Linear Regression entire dataset"
   ]
  },
  {
   "cell_type": "code",
   "execution_count": null,
   "metadata": {
    "id": "6WPb1H_Y_RyT"
   },
   "outputs": [],
   "source": [
    "x= data.drop(['mpg','labels'],axis=1)\n",
    "y= data.pop('mpg')"
   ]
  },
  {
   "cell_type": "code",
   "execution_count": null,
   "metadata": {
    "id": "oZEc1AD9_RyT"
   },
   "outputs": [],
   "source": [
    "# splitting the data into training set and test set \n",
    "from sklearn.model_selection import train_test_split\n",
    "\n",
    "x_train,x_test,y_train,y_test=train_test_split(x,y,test_size=0.30,random_state=24)"
   ]
  },
  {
   "cell_type": "code",
   "execution_count": null,
   "metadata": {
    "id": "GWpCdH4x_RyT",
    "outputId": "b7ebb7b4-71d0-41b3-9140-eab67d4d8c4f"
   },
   "outputs": [
    {
     "data": {
      "text/plain": [
       "LinearRegression(copy_X=True, fit_intercept=True, n_jobs=None, normalize=False)"
      ]
     },
     "execution_count": 57,
     "metadata": {
      "tags": []
     },
     "output_type": "execute_result"
    }
   ],
   "source": [
    "from sklearn.linear_model import LinearRegression\n",
    "mod1 = LinearRegression()\n",
    "mod1.fit(x_train, y_train)"
   ]
  },
  {
   "cell_type": "code",
   "execution_count": null,
   "metadata": {
    "id": "G11jVd3t_RyT",
    "outputId": "3f123fc6-c78f-4d76-9087-8dfad1535127"
   },
   "outputs": [
    {
     "name": "stdout",
     "output_type": "stream",
     "text": [
      "The coefficient for cyl is -0.5031929509100906\n",
      "The coefficient for disp is 0.00883764715220844\n",
      "The coefficient for hp is -0.011943991201898433\n",
      "The coefficient for wt is -0.006694254303009853\n",
      "The coefficient for acc is -0.09489179067089787\n",
      "The coefficient for yr is 0.6779820375797242\n"
     ]
    }
   ],
   "source": [
    "for idx, col_name in enumerate(x_train.columns):\n",
    "    print(\"The coefficient for {} is {}\".format(col_name, mod1.coef_[idx]))\n"
   ]
  },
  {
   "cell_type": "code",
   "execution_count": null,
   "metadata": {
    "id": "Yt-AEzT6_RyU",
    "outputId": "e6ea4561-f15c-4945-df02-ff2c2673c566"
   },
   "outputs": [
    {
     "name": "stdout",
     "output_type": "stream",
     "text": [
      "The intercept for our model is -4.311742075684759\n"
     ]
    }
   ],
   "source": [
    "# Let us check the intercept for the model\n",
    "\n",
    "intercept = mod1.intercept_\n",
    "\n",
    "print(\"The intercept for our model is {}\".format(intercept))"
   ]
  },
  {
   "cell_type": "code",
   "execution_count": null,
   "metadata": {
    "id": "GkLF77pX_RyU",
    "outputId": "6d6fc2fd-2863-4e7a-b9ce-fb9039eb5aef"
   },
   "outputs": [
    {
     "name": "stdout",
     "output_type": "stream",
     "text": [
      "Training score : 0.8252901417383962\n",
      "Test score : 0.7535042541071166\n"
     ]
    }
   ],
   "source": [
    "print('Training score :',mod1.score(x_train,y_train))\n",
    "print('Test score :',mod1.score(x_test,y_test))"
   ]
  },
  {
   "cell_type": "markdown",
   "metadata": {
    "id": "VCt7-uo1_RyU"
   },
   "source": [
    "## Observations \n",
    "\n",
    "1. The model seems to be overfitting as a result of small training set leading to curse of dimensionality.This is evident from the comparision of model performance in training versus test.\n",
    "2. Hence when we run this model cluster wise, the situaltion is likely to be worse. "
   ]
  },
  {
   "cell_type": "markdown",
   "metadata": {
    "id": "r16P1cd0_RyU"
   },
   "source": [
    "## Linear Regression on small car data "
   ]
  },
  {
   "cell_type": "code",
   "execution_count": null,
   "metadata": {
    "id": "x1Ue0q99_RyU"
   },
   "outputs": [],
   "source": [
    "small_x=small_df.drop(['mpg','labels'],axis=1)"
   ]
  },
  {
   "cell_type": "code",
   "execution_count": null,
   "metadata": {
    "id": "AxOVD3BX_RyU"
   },
   "outputs": [],
   "source": [
    "small_y=small_df.pop('mpg')"
   ]
  },
  {
   "cell_type": "code",
   "execution_count": null,
   "metadata": {
    "id": "LoCeJo9a_RyU"
   },
   "outputs": [],
   "source": [
    "# splitting the data into training set and test set \n",
    "\n",
    "sx_train,sx_test,sy_train,sy_test=train_test_split(small_x,small_y,test_size=0.30,random_state=24)"
   ]
  },
  {
   "cell_type": "code",
   "execution_count": null,
   "metadata": {
    "id": "-ZWOLTAP_RyU",
    "outputId": "0facccab-c323-411e-f0c6-c7c208b05aa4"
   },
   "outputs": [
    {
     "data": {
      "text/plain": [
       "LinearRegression(copy_X=True, fit_intercept=True, n_jobs=None, normalize=False)"
      ]
     },
     "execution_count": 64,
     "metadata": {
      "tags": []
     },
     "output_type": "execute_result"
    }
   ],
   "source": [
    "mod2 = LinearRegression()\n",
    "mod2.fit(sx_train,sy_train)"
   ]
  },
  {
   "cell_type": "code",
   "execution_count": null,
   "metadata": {
    "id": "DOJqGxCL_RyU",
    "outputId": "f66d8b0f-cc3e-4824-ead3-39798da80848"
   },
   "outputs": [
    {
     "name": "stdout",
     "output_type": "stream",
     "text": [
      "The coefficient for cyl is 1.81463548992285\n",
      "The coefficient for disp is -0.05230566075137188\n",
      "The coefficient for hp is -0.06816827851963413\n",
      "The coefficient for wt is -0.005797552082526715\n",
      "The coefficient for acc is -0.1513194724522297\n",
      "The coefficient for yr is 0.90143627174342\n"
     ]
    }
   ],
   "source": [
    "for idx, col_name in enumerate(sx_train.columns):\n",
    "    print(\"The coefficient for {} is {}\".format(col_name, mod2.coef_[idx]))"
   ]
  },
  {
   "cell_type": "code",
   "execution_count": null,
   "metadata": {
    "id": "KYsvZzIC_RyU",
    "outputId": "09bab574-80b5-4fc8-859a-084e05b1e810"
   },
   "outputs": [
    {
     "name": "stdout",
     "output_type": "stream",
     "text": [
      "The intercept for our model is -20.783709669871143\n"
     ]
    }
   ],
   "source": [
    "# Let us check the intercept for the model\n",
    "\n",
    "intercept = mod2.intercept_\n",
    "\n",
    "print(\"The intercept for our model is {}\".format(intercept))"
   ]
  },
  {
   "cell_type": "code",
   "execution_count": null,
   "metadata": {
    "id": "Xo2gw9tF_RyU",
    "outputId": "c7cb7140-5712-47b6-f1d5-df5d6370f87a"
   },
   "outputs": [
    {
     "name": "stdout",
     "output_type": "stream",
     "text": [
      "Training score : 0.716626887183988\n",
      "Test score : 0.6267466010298033\n"
     ]
    }
   ],
   "source": [
    "print('Training score :',mod2.score(sx_train,sy_train))\n",
    "print('Test score :',mod2.score(sx_test,sy_test))"
   ]
  },
  {
   "cell_type": "markdown",
   "metadata": {
    "id": "0ByHgOI5_RyU"
   },
   "source": [
    "## Observation \n",
    "\n",
    "1. Linear Regression on Small car data set is overfitting as is evident from the training score versus test score.\n",
    "2. The coefficient for cyl column is suspicious as the relationship between mpg and cylinder is strong negative as per the pair plot.\n",
    "3. The suspicious coefficient could be due to colinearity."
   ]
  },
  {
   "cell_type": "markdown",
   "metadata": {
    "id": "oB15Ltdl_RyU"
   },
   "source": [
    "## Linear Regression on medium car data "
   ]
  },
  {
   "cell_type": "code",
   "execution_count": null,
   "metadata": {
    "id": "YF39oSvP_RyU"
   },
   "outputs": [],
   "source": [
    "medium_x=medium_df.drop(['mpg','labels'],axis=1)\n",
    "medium_y=medium_df.pop('mpg')"
   ]
  },
  {
   "cell_type": "code",
   "execution_count": null,
   "metadata": {
    "id": "_Zbw7EFh_RyU"
   },
   "outputs": [],
   "source": [
    "# splitting the data into training set and test set \n",
    "\n",
    "mx_train,mx_test,my_train,my_test=train_test_split(medium_x,medium_y,test_size=0.30,random_state=24)"
   ]
  },
  {
   "cell_type": "code",
   "execution_count": null,
   "metadata": {
    "id": "NhNml7bD_RyU",
    "outputId": "df6e02c1-1cf3-4235-a5b5-30aae13da9a7"
   },
   "outputs": [
    {
     "data": {
      "text/plain": [
       "LinearRegression(copy_X=True, fit_intercept=True, n_jobs=None, normalize=False)"
      ]
     },
     "execution_count": 70,
     "metadata": {
      "tags": []
     },
     "output_type": "execute_result"
    }
   ],
   "source": [
    "mod3 = LinearRegression()\n",
    "mod3.fit(mx_train,my_train)"
   ]
  },
  {
   "cell_type": "code",
   "execution_count": null,
   "metadata": {
    "id": "Z38H_dAh_RyV",
    "outputId": "87d79056-a5f9-4490-a342-b9676ac4c6e6"
   },
   "outputs": [
    {
     "name": "stdout",
     "output_type": "stream",
     "text": [
      "The coefficient for cyl is 3.2137669218179514\n",
      "The coefficient for disp is -0.007899643334677056\n",
      "The coefficient for hp is -0.019088476496272395\n",
      "The coefficient for wt is -0.0008687923414381304\n",
      "The coefficient for acc is -0.49200554765157134\n",
      "The coefficient for yr is 0.3196547329512555\n"
     ]
    }
   ],
   "source": [
    "for idx, col_name in enumerate(sx_train.columns):\n",
    "    print(\"The coefficient for {} is {}\".format(col_name, mod3.coef_[idx]))"
   ]
  },
  {
   "cell_type": "code",
   "execution_count": null,
   "metadata": {
    "id": "QPU3BQzC_RyV",
    "outputId": "420948a1-7654-41b8-f076-605dd91ad95f"
   },
   "outputs": [
    {
     "name": "stdout",
     "output_type": "stream",
     "text": [
      "The intercept for our model is -9.595603539291861\n"
     ]
    }
   ],
   "source": [
    "# Let us check the intercept for the model\n",
    "\n",
    "intercept = mod3.intercept_\n",
    "\n",
    "print(\"The intercept for our model is {}\".format(intercept))"
   ]
  },
  {
   "cell_type": "code",
   "execution_count": null,
   "metadata": {
    "id": "_0nWJlVf_RyV",
    "outputId": "59b9d89c-ca7f-4052-9f77-2847a855ae8f"
   },
   "outputs": [
    {
     "name": "stdout",
     "output_type": "stream",
     "text": [
      "Training score : 0.6310836221363493\n",
      "Test score : -0.060331676840832626\n"
     ]
    }
   ],
   "source": [
    "print('Training score :',mod3.score(mx_train,my_train))\n",
    "print('Test score :',mod3.score(mx_test,my_test))"
   ]
  },
  {
   "cell_type": "markdown",
   "metadata": {
    "id": "XfMfDrLg_RyV"
   },
   "source": [
    " ## Observations \n",
    " \n",
    " 1. This model is worse than the random model (which predicts the mean value of y for all values of x), this is the reason why the test score is comingout negative.\n",
    " \n",
    " 2. Note the negative test score! Coeff of determinant (R^2) can be negative!] What we discuss in class is R^2 ranges between 0 and 1... This is strictly no true and this tells us two important information points -\n",
    "    a. R^2 is not a squared quantity. It is so only for simple linear regression (only one X variable). In all other cases R^2 is only a label\n",
    "    b. R^2  = 1 - (SSE / SST)    - is there anything in the formula which says SSE cannot be greater than SST? \n",
    "    \n",
    "3. Under what conditions can SSE be greater than SST? \n",
    " "
   ]
  },
  {
   "cell_type": "markdown",
   "metadata": {
    "id": "pj-IR_DT_RyV"
   },
   "source": [
    "## Linear Regression model on Large car dataset "
   ]
  },
  {
   "cell_type": "code",
   "execution_count": null,
   "metadata": {
    "id": "y_9j0US9_RyV"
   },
   "outputs": [],
   "source": [
    "large_x=large_df.drop(['mpg','labels'],axis=1)\n",
    "large_y=large_df.pop('mpg')"
   ]
  },
  {
   "cell_type": "code",
   "execution_count": null,
   "metadata": {
    "id": "A0DRZXlX_RyV"
   },
   "outputs": [],
   "source": [
    "# splitting the data into training set and test set \n",
    "\n",
    "lx_train,lx_test,ly_train,ly_test=train_test_split(large_x,large_y,test_size=0.30,random_state=24)"
   ]
  },
  {
   "cell_type": "code",
   "execution_count": null,
   "metadata": {
    "id": "gGLc03Ki_RyV",
    "outputId": "517d93db-dad4-44b9-89a2-d581100f616e"
   },
   "outputs": [
    {
     "data": {
      "text/plain": [
       "LinearRegression(copy_X=True, fit_intercept=True, n_jobs=None, normalize=False)"
      ]
     },
     "execution_count": 76,
     "metadata": {
      "tags": []
     },
     "output_type": "execute_result"
    }
   ],
   "source": [
    "mod4 = LinearRegression()\n",
    "mod4.fit(lx_train,ly_train)"
   ]
  },
  {
   "cell_type": "code",
   "execution_count": null,
   "metadata": {
    "id": "RgrquxI-_RyV",
    "outputId": "11626022-2fff-4a68-859d-411ce918b440"
   },
   "outputs": [
    {
     "name": "stdout",
     "output_type": "stream",
     "text": [
      "The coefficient for cyl is 0.0\n",
      "The coefficient for disp is 0.00604173912616375\n",
      "The coefficient for hp is -0.011925934142250351\n",
      "The coefficient for wt is -0.0027730903017192106\n",
      "The coefficient for acc is -0.21637725023961094\n",
      "The coefficient for yr is 0.3634521142547647\n"
     ]
    }
   ],
   "source": [
    "for idx, col_name in enumerate(sx_train.columns):\n",
    "    print(\"The coefficient for {} is {}\".format(col_name, mod4.coef_[idx]))"
   ]
  },
  {
   "cell_type": "code",
   "execution_count": null,
   "metadata": {
    "id": "qL5z6EJh_RyV",
    "outputId": "794089c8-892e-4ff0-9c55-6b4da451c5b9"
   },
   "outputs": [
    {
     "name": "stdout",
     "output_type": "stream",
     "text": [
      "The intercept for our model is 2.0824194477687605\n"
     ]
    }
   ],
   "source": [
    "# Let us check the intercept for the model\n",
    "\n",
    "intercept = mod4.intercept_\n",
    "\n",
    "print(\"The intercept for our model is {}\".format(intercept))"
   ]
  },
  {
   "cell_type": "code",
   "execution_count": null,
   "metadata": {
    "id": "-f8euze4_RyW",
    "outputId": "664f997c-db83-408b-9958-7230670f12e5"
   },
   "outputs": [
    {
     "name": "stdout",
     "output_type": "stream",
     "text": [
      "Training score : 0.6365890384487791\n",
      "Test score : 0.38665960765860063\n"
     ]
    }
   ],
   "source": [
    "print('Training score :',mod4.score(lx_train,ly_train))\n",
    "print('Test score :',mod4.score(lx_test,ly_test))"
   ]
  },
  {
   "cell_type": "markdown",
   "metadata": {
    "id": "05j-Z6em_RyW"
   },
   "source": [
    "## Observations \n",
    "\n",
    "1. For large car also the linear model is overfitting because of lack of data as is evident from the training and test scores."
   ]
  },
  {
   "cell_type": "markdown",
   "metadata": {
    "id": "jX3i3cJY_RyW"
   },
   "source": [
    "# Overall Analysis "
   ]
  },
  {
   "cell_type": "markdown",
   "metadata": {
    "id": "IUDpnk-B_RyW"
   },
   "source": [
    "Comparing the coefficients across overall and the three cluster based models.\n",
    "\n",
    "As is evident from the table above the coefficients for the different attributes to predict mpg is very different acrosss the datasets, it is a clear indication that in the different segments the relationship between mpg and these attributes is very different. Hence, it is logical that we should have seperate multivariate linear regression models for each segment. However because of the small size of training dataset across the segments, the individual models overfit and performance is average to poor on test data."
   ]
  },
  {
   "cell_type": "markdown",
   "metadata": {
    "id": "6_bhhKtc_RyW"
   },
   "source": [
    "## Suggestions \n",
    "\n",
    "1. If we fit multivariate linear regression on the entire dataset it will create model that will neither represent the small, medium or large cars correctly. \n",
    "\n",
    "2. The observations in the pairplot clearly show that the relation between mpg and the attributes such as hp, wt, disp etc is not strictly linear\n",
    "\n",
    "3. Fitting a linear model on these attributes will result in large SSE and also hetroskedasticity i.e. error in prediction will be vary for different values of the input variables\n",
    "\n",
    "4. since segment wise modeling given the data is not giving good results, we should create quadratic linear models to capture the curvature observed in the relation between mpg and the attributes. When this is done on the entire data, that will give a much better model (least SSE, homoscedasticity and generlisable) in terms of scores (coefficient of determinant)\n",
    "\n",
    "5. Since linear regression models are impacted by outliers and there are some data points representing those rare but real cars manufactured in limited quantity, that are outliers on hp and mpg we can drop these records from the training set.\n",
    "\n",
    "6. To handle such outliers in production (which is a possibility) one should check the attribute values to ensure they are within the range considered as normal, else they should be handled before using for predict.\n",
    "\n",
    "\n"
   ]
  },
  {
   "cell_type": "code",
   "execution_count": null,
   "metadata": {
    "id": "J9soo85z_RyW"
   },
   "outputs": [],
   "source": []
  }
 ],
 "metadata": {
  "colab": {
   "name": "Car_Data_Analytics_Clustering_LinearRegression (3).ipynb",
   "provenance": []
  },
  "kernelspec": {
   "display_name": "Python 3",
   "language": "python",
   "name": "python3"
  },
  "language_info": {
   "codemirror_mode": {
    "name": "ipython",
    "version": 3
   },
   "file_extension": ".py",
   "mimetype": "text/x-python",
   "name": "python",
   "nbconvert_exporter": "python",
   "pygments_lexer": "ipython3",
   "version": "3.8.3"
  }
 },
 "nbformat": 4,
 "nbformat_minor": 4
}
